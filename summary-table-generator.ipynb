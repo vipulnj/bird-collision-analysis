{
 "cells": [
  {
   "cell_type": "markdown",
   "metadata": {},
   "source": [
    "# Bird Collision Dataset Summary Generator"
   ]
  },
  {
   "cell_type": "markdown",
   "metadata": {},
   "source": [
    "### Brief overview of the script\n",
    "\n",
    "1. We first accept the inputDir and outputDir as inputs to the script. These arguments will tells us where to read the JSONs and write the resulting CSVs. If you are planning to run this script, please specify inputDir and outputDir below.\n",
    "\n",
    "\n",
    "2. Then, we check if the JSON files in the directory are valid JSON files. Once done evaluating that, we check if there are missing serial numbers in the JSON which might to some missing rows in the table we will generate.\n",
    "\n",
    "\n",
    "3. Next, we create dataframe objects using the JSONs which would in `df_lightLevels`, `df_flightCall` and `df_chicagoCollisionData`.\n",
    "\n",
    "\n",
    "4. Some of the column names in the dataframes need to be fixed which happens in this step.\n",
    "\n",
    "\n",
    "5. Next, we delete duplicated rows in `df_lightLevels` and `df_flightCall` dataframes. We do NOT delete duplicate in `df_chicagoCollisionData` since each row in this dataframe is an occurence of collision.\n",
    "\n",
    "\n",
    "6. Next, we examine the null values in the three dataframes, if any. `df_chicagoCollisionData` and `df_flightCall` have no nulls in any of their columns. However, `df_lightLevels` has nulls values under both the `Date` and `Light Score` columns.\n",
    "\n",
    "\n",
    "7. Next, we examine for unique values under the columns of all the dataframes. This is where we clean up text by fixing the case of the text values, leading or trailing whitespace in the text values, fix repeated values or incorrectly spelled values and so on.\n",
    "\n",
    "\n",
    "8. Next, we try to drop null values of `df_lightLevels` since knowing the light scores without their dates is not useful.\n",
    "\n",
    "\n",
    "9. Finally, we combine the information in `df_chicagoCollisionData` and `df_lightLevels` by performing the left join on the `Date` column in the resulting dataframe.\n",
    "\n",
    "\n",
    "10. Next, we take the resulting dataframe of the previous step as the left table and `df_flightCall` as right table and perform left join on the column names `Genus` and `Species`. This will give the final fully joined dataframe `df_fullDataJoined`.\n",
    "\n",
    "\n",
    "11. After joining, we see that 89 rows are still missing information for columns `Family`, `Collisions`, `Flight Call`, `Habitat`, `Stratum`. We lookup information and fill them in. \n",
    "\n",
    "\n",
    "12. The values under `Collisions` are still unfilled. This step handles that. \n",
    "\n",
    "\n",
    "13. Finally, we perform a group by operation to group by the columns **`Family`, `Genus`, `Species`** and aggregate values under other columns except Date column since aggregate of different date values is meaningless.\n",
    "\n",
    "\n",
    "14. Finally, we save the dataframe as a CSV file named **summary_table.csv** in the output directory specified in the script. Along with it, we can also save `df_fullDataJoined` as **fullDataJoined_table.csv**."
   ]
  },
  {
   "cell_type": "markdown",
   "metadata": {},
   "source": [
    "### <font color='red'> 1. We first accept the inputDir and outputDir as inputs to the script. These arguments will tells us where to read the JSONs and write the resulting CSVs. </font>"
   ]
  },
  {
   "cell_type": "code",
   "execution_count": 1,
   "metadata": {
    "scrolled": true
   },
   "outputs": [],
   "source": [
    "# import libraries\n",
    "\n",
    "import os, utils\n",
    "import numpy as np\n",
    "import pandas as pd\n",
    "import matplotlib.pyplot as plt\n",
    "import seaborn as sns"
   ]
  },
  {
   "cell_type": "code",
   "execution_count": 2,
   "metadata": {
    "scrolled": true
   },
   "outputs": [],
   "source": [
    "# loads paths to JSON files\n",
    "\n",
    "# inputDir, outputDir = sys.argv[1], sys.argv[2]\n",
    "inputDir = 'data' # user to input\n",
    "outputDir = 'result' # # user to input\n",
    "\n",
    "jsonFile_lightLevels = os.path.join(inputDir, 'light_levels.json')\n",
    "jsonFile_flightCall = os.path.join(inputDir, 'flight_call.json')\n",
    "jsonFile_chicagoCollisionData = os.path.join(inputDir, 'chicago_collision_data.json')"
   ]
  },
  {
   "cell_type": "markdown",
   "metadata": {},
   "source": [
    "### 2. <font color='red'> Then, we check if the JSON files in the directory are valid JSON files. Once done evaluating that, we check if there are missing serial numbers in the JSON which might to some missing rows in the table we will generate."
   ]
  },
  {
   "cell_type": "code",
   "execution_count": 3,
   "metadata": {
    "scrolled": true
   },
   "outputs": [
    {
     "name": "stdout",
     "output_type": "stream",
     "text": [
      "All files are valid JSON files.\n",
      "All files have valid record serial numbers across their all their keys.\n"
     ]
    }
   ],
   "source": [
    "# check if jsonFiles are valid json files\n",
    "\n",
    "jsonFileValidities = [\n",
    "    utils.isValidJsonFile(jsonFile_lightLevels),\n",
    "    utils.isValidJsonFile(jsonFile_flightCall),\n",
    "    utils.isValidJsonFile(jsonFile_chicagoCollisionData)\n",
    "]\n",
    "\n",
    "if all(jsonFileValidities) == True:\n",
    "    print(\"All files are valid JSON files.\")\n",
    "\n",
    "# check if records under each key in each JSON file have issues in serial numbering\n",
    "recordSerialNumberValidities = [\n",
    "    utils.checkSerialNumbersInJsonFile(jsonFile_lightLevels),\n",
    "    utils.checkSerialNumbersInJsonFile(jsonFile_flightCall),\n",
    "    utils.checkSerialNumbersInJsonFile(jsonFile_chicagoCollisionData)\n",
    "]\n",
    "\n",
    "if all(recordSerialNumberValidities) == True:\n",
    "    print(\"All files have valid record serial numbers across their all their keys.\")"
   ]
  },
  {
   "cell_type": "markdown",
   "metadata": {},
   "source": [
    "### <font color='red'> 3. Next, we create dataframe objects using the JSONs which would in `df_lightLevels`, `df_flightCall` and `df_chicagoCollisionData`. </font>"
   ]
  },
  {
   "cell_type": "code",
   "execution_count": 4,
   "metadata": {
    "scrolled": true
   },
   "outputs": [],
   "source": [
    "df_lightLevels = pd.read_json(jsonFile_lightLevels)\n",
    "df_flightCall = pd.read_json(jsonFile_flightCall)\n",
    "df_chicagoCollisionData = pd.read_json(jsonFile_chicagoCollisionData)"
   ]
  },
  {
   "cell_type": "markdown",
   "metadata": {},
   "source": [
    "### <font color='red'> 4. Some of the column names in the dataframes need to be fixed. </font>"
   ]
  },
  {
   "cell_type": "code",
   "execution_count": 5,
   "metadata": {
    "scrolled": true
   },
   "outputs": [],
   "source": [
    "# we're given that df_flightCall has incorrect column names in the problem statement itself\n",
    "\n",
    "df_flightCall.rename(columns = {\n",
    "    \"Species\": \"Genus\", # given in problem statement\n",
    "    \"Family\": \"Species\", # given in problem statement\n",
    "    \"Collisions\": \"Family\", # given in problem statement\n",
    "    \"Call\": \"Flight Call\", # given in problem statement\n",
    "    \"Flight\": \"Collisions\" # found this in supplemental material -- Table S1, explained later\n",
    "}, inplace=True)\n",
    "\n",
    "# Supplemental material: \n",
    "# https://royalsocietypublishing.org/action/downloadSupplement?doi=10.1098%2Frspb.2019.0364&file=rspb20190364supp1.pdf\n",
    "\n",
    "\n",
    "df_lightLevels.rename(columns={\n",
    "    \"Light Score \": \"Light Score\" # remove the extra space in df_lightLevels['Light Score ']\n",
    "}, inplace=True)"
   ]
  },
  {
   "cell_type": "markdown",
   "metadata": {},
   "source": [
    "### <font color='red'> 5. Next, we delete duplicated rows in `df_lightLevels` and `df_flightCall` dataframes. We do NOT delete duplicate in `df_chicagoCollisionData` since each row in this dataframe is an occurence of collision."
   ]
  },
  {
   "cell_type": "code",
   "execution_count": 6,
   "metadata": {
    "scrolled": true
   },
   "outputs": [],
   "source": [
    "# repeated data in df_flightCall and df_lightLevels is not useful and can interfere with our joins\n",
    "df_flightCall = df_flightCall.drop_duplicates()\n",
    "df_lightLevels = df_lightLevels.drop_duplicates()"
   ]
  },
  {
   "cell_type": "markdown",
   "metadata": {},
   "source": [
    "### 6. Next, we examine the null values in the three dataframes. "
   ]
  },
  {
   "cell_type": "code",
   "execution_count": 7,
   "metadata": {
    "scrolled": true
   },
   "outputs": [
    {
     "name": "stdout",
     "output_type": "stream",
     "text": [
      "<class 'pandas.core.frame.DataFrame'>\n",
      "Int64Index: 91 entries, 0 to 90\n",
      "Data columns (total 7 columns):\n",
      " #   Column       Non-Null Count  Dtype \n",
      "---  ------       --------------  ----- \n",
      " 0   Genus        91 non-null     object\n",
      " 1   Species      91 non-null     object\n",
      " 2   Family       91 non-null     object\n",
      " 3   Collisions   91 non-null     int64 \n",
      " 4   Flight Call  91 non-null     object\n",
      " 5   Habitat      91 non-null     object\n",
      " 6   Stratum      91 non-null     object\n",
      "dtypes: int64(1), object(6)\n",
      "memory usage: 5.7+ KB\n"
     ]
    }
   ],
   "source": [
    "df_flightCall.info()"
   ]
  },
  {
   "cell_type": "code",
   "execution_count": 8,
   "metadata": {
    "scrolled": true
   },
   "outputs": [
    {
     "data": {
      "text/plain": [
       "0"
      ]
     },
     "execution_count": 8,
     "metadata": {},
     "output_type": "execute_result"
    }
   ],
   "source": [
    "# another way to confirm the same - the following code returns the number of null values in the whole dataframe\n",
    "\n",
    "df_flightCall.isnull().values.sum()"
   ]
  },
  {
   "cell_type": "code",
   "execution_count": 9,
   "metadata": {
    "scrolled": true
   },
   "outputs": [
    {
     "name": "stdout",
     "output_type": "stream",
     "text": [
      "<class 'pandas.core.frame.DataFrame'>\n",
      "Int64Index: 69784 entries, 0 to 69783\n",
      "Data columns (total 4 columns):\n",
      " #   Column    Non-Null Count  Dtype         \n",
      "---  ------    --------------  -----         \n",
      " 0   Genus     69784 non-null  object        \n",
      " 1   Species   69784 non-null  object        \n",
      " 2   Date      69784 non-null  datetime64[ns]\n",
      " 3   Locality  69784 non-null  object        \n",
      "dtypes: datetime64[ns](1), object(3)\n",
      "memory usage: 2.7+ MB\n"
     ]
    }
   ],
   "source": [
    "df_chicagoCollisionData.info()"
   ]
  },
  {
   "cell_type": "code",
   "execution_count": 10,
   "metadata": {
    "scrolled": true
   },
   "outputs": [
    {
     "data": {
      "text/plain": [
       "0"
      ]
     },
     "execution_count": 10,
     "metadata": {},
     "output_type": "execute_result"
    }
   ],
   "source": [
    "# another way to confirm the same - the following code returns the number of null values in the whole dataframe\n",
    "\n",
    "df_chicagoCollisionData.isnull().values.sum()"
   ]
  },
  {
   "cell_type": "code",
   "execution_count": 11,
   "metadata": {
    "scrolled": true
   },
   "outputs": [
    {
     "name": "stdout",
     "output_type": "stream",
     "text": [
      "<class 'pandas.core.frame.DataFrame'>\n",
      "Int64Index: 3090 entries, 0 to 3250\n",
      "Data columns (total 2 columns):\n",
      " #   Column       Non-Null Count  Dtype         \n",
      "---  ------       --------------  -----         \n",
      " 0   Date         3081 non-null   datetime64[ns]\n",
      " 1   Light Score  3075 non-null   float64       \n",
      "dtypes: datetime64[ns](1), float64(1)\n",
      "memory usage: 72.4 KB\n"
     ]
    }
   ],
   "source": [
    "df_lightLevels.info()"
   ]
  },
  {
   "cell_type": "code",
   "execution_count": 12,
   "metadata": {
    "scrolled": true
   },
   "outputs": [
    {
     "data": {
      "text/plain": [
       "24"
      ]
     },
     "execution_count": 12,
     "metadata": {},
     "output_type": "execute_result"
    }
   ],
   "source": [
    "# another way to confirm the same - the following code returns the number of null values in the whole dataframe\n",
    "\n",
    "df_lightLevels.isnull().values.sum()"
   ]
  },
  {
   "cell_type": "markdown",
   "metadata": {},
   "source": [
    "### `df_chicagoCollisionData` and `df_flightCall` have no nulls in any of their columns. \n",
    "\n",
    "### However, `df_lightLevels` has nulls values under both the `Date` and `Light Score` columns."
   ]
  },
  {
   "cell_type": "markdown",
   "metadata": {},
   "source": [
    "### <font color='red'> 7. Next, we examine for unique values in the columns of all the dataframes. </font>"
   ]
  },
  {
   "cell_type": "code",
   "execution_count": 13,
   "metadata": {
    "scrolled": true
   },
   "outputs": [
    {
     "data": {
      "text/plain": [
       "Date           3062\n",
       "Light Score      15\n",
       "dtype: int64"
      ]
     },
     "execution_count": 13,
     "metadata": {},
     "output_type": "execute_result"
    }
   ],
   "source": [
    "df_lightLevels.nunique()"
   ]
  },
  {
   "cell_type": "code",
   "execution_count": 14,
   "metadata": {
    "scrolled": true
   },
   "outputs": [
    {
     "data": {
      "text/plain": [
       "Genus          52\n",
       "Species        84\n",
       "Family         15\n",
       "Collisions     81\n",
       "Flight Call     5\n",
       "Habitat         6\n",
       "Stratum         3\n",
       "dtype: int64"
      ]
     },
     "execution_count": 14,
     "metadata": {},
     "output_type": "execute_result"
    }
   ],
   "source": [
    "df_flightCall.nunique()"
   ]
  },
  {
   "cell_type": "code",
   "execution_count": 15,
   "metadata": {
    "scrolled": true
   },
   "outputs": [
    {
     "data": {
      "text/plain": [
       "Genus         43\n",
       "Species       84\n",
       "Date        5318\n",
       "Locality       2\n",
       "dtype: int64"
      ]
     },
     "execution_count": 15,
     "metadata": {},
     "output_type": "execute_result"
    }
   ],
   "source": [
    "df_chicagoCollisionData.nunique()"
   ]
  },
  {
   "cell_type": "markdown",
   "metadata": {},
   "source": [
    "### check for unique values on some of the columns where we can investigate. \n",
    "\n",
    "### This is where we clean up text by fixing the case of the text values, leading or trailing whitespace in the text values, fix repeated values or incorrectly spelled values and so on."
   ]
  },
  {
   "cell_type": "code",
   "execution_count": 16,
   "metadata": {
    "scrolled": true
   },
   "outputs": [
    {
     "data": {
      "text/plain": [
       "array([ 4.,  6., nan, 15., 14.,  3., 12., 13., 17., 16.,  7., 11.,  8.,\n",
       "       10.,  5.,  9.])"
      ]
     },
     "execution_count": 16,
     "metadata": {},
     "output_type": "execute_result"
    }
   ],
   "source": [
    "pd.unique(df_lightLevels['Light Score']) # NaN values, values upto 17 i.e. the no. of windows lit up"
   ]
  },
  {
   "cell_type": "code",
   "execution_count": 17,
   "metadata": {
    "scrolled": true
   },
   "outputs": [
    {
     "name": "stdout",
     "output_type": "stream",
     "text": [
      "['Ammodramus', 'Ammospiza', 'Cardellina', 'Catharus', 'Centronyx', 'Certhia', 'Cistothorus', 'Contopus', 'Empidonax', 'Geothlypis', 'Hylocichla', 'Icterus', 'Junco', 'Lanius', 'Melospiza', 'Mniotilta', 'Myiarchus', 'Oporornis', 'Oreothlypis', 'Parkesia', 'Passerculus', 'Passerella', 'Passerina', 'Pheucticus', 'Pipilo', 'Piranga', 'Polioptila', 'Pooecetes', 'Protonotaria', 'Regulus', 'Sayornis', 'Seiurus', 'Setophaga', 'Sitta', 'Spizella', 'Spizelloides', 'Sturnella', 'Toxostoma', 'Troglodytes', 'Tyrannus', 'Vermivora', 'Vireo', 'Zonotrichia', 'catharus', 'cistothorus', 'dumetella', 'geothlypis', 'icteria', 'setophaga', 'troglodytes', 'vireo', 'zonotrichia']\n"
     ]
    }
   ],
   "source": [
    "print(sorted(pd.unique(df_flightCall['Genus']))) # repeats due to casing"
   ]
  },
  {
   "cell_type": "markdown",
   "metadata": {},
   "source": [
    "**^^ We see repeat of `'catharus', 'cistothorus', ... 'vireo', 'zonotrichia'` in lower case. Also, since these are Genus part of scientific name, the first letter of all words must be uppercase. This will also fix our issue of repeats due to lower case we just mentioned.**"
   ]
  },
  {
   "cell_type": "code",
   "execution_count": 18,
   "metadata": {
    "scrolled": true
   },
   "outputs": [
    {
     "name": "stdout",
     "output_type": "stream",
     "text": [
      "['aedon', 'agilis', 'albicollis', 'americana', 'arborea', 'aurocapilla', 'caerulea', 'caerulescens', 'calendula', 'canadensis', 'carolinensis', 'castanea', 'celata', 'cerulea', 'chrysoptera', 'citrea', 'citrina', 'cooperi', 'coronata', 'crinitus', 'cyanea', 'cyanoptera', 'erythrophthalmus', 'excubitor', 'flavifrons', 'flaviventris', 'formosa', 'fusca', 'fuscescens', 'galbula', 'georgiana', 'gilvus', 'gramineus', 'guttatus', 'henslowii', 'hiemalis', 'hyemalis', 'iliaca', 'leconteii', 'leucophrys', 'lincolnii', 'ludovicianus', 'magna', 'magnolia', 'melodia', 'minimus', 'motacilla', 'mustelina', 'nelsoni', 'noveboracensis', 'olivacea', 'olivaceus', 'pallida', 'palmarum', 'palustris', 'passerina', 'pensylvanica', 'peregrina', 'petechia', 'philadelphia', 'philadelphicus', 'phoebe', 'pinus', 'platensis', 'pusilla', 'querula', 'rubra', 'ruficapilla', 'rufum', 'ruticilla', 'sandwichensis', 'satrapa', 'savannarum', 'solitarius', 'spurius', 'striata', 'tigrina', 'traillii', 'trichas', 'tyrannus', 'ustulatus', 'varia', 'virens', 'virescens']\n"
     ]
    }
   ],
   "source": [
    "print(sorted(pd.unique(df_flightCall['Species']))) # unique values seen (all lower case)"
   ]
  },
  {
   "cell_type": "markdown",
   "metadata": {},
   "source": [
    "**^^ The Species part of the scientific name (consists of Genus and species parts, in this order) needs to start with the lower letter. Hence, we need not change anything here. Also, we do not see any repeats due to casing here.**"
   ]
  },
  {
   "cell_type": "code",
   "execution_count": 19,
   "metadata": {
    "scrolled": true
   },
   "outputs": [
    {
     "name": "stdout",
     "output_type": "stream",
     "text": [
      "['Cardinalidae', 'Certhiidae', 'Icteridae', 'Icteriidae', 'Laniidae', 'Mimidae', 'Parulidae', 'Passerellidae', 'Polioptilidae', 'Regulidae', 'Sittidae', 'Troglodytidae', 'Turdidae', 'Tyrannidae', 'Vireonidae']\n"
     ]
    }
   ],
   "source": [
    "print(sorted(pd.unique(df_flightCall['Family']))) # ['Icteridae', 'Icteriidae', ...] - spelling issue"
   ]
  },
  {
   "cell_type": "markdown",
   "metadata": {},
   "source": [
    "**^^ we see there is a mistake in the spelling for the Icteridae family**"
   ]
  },
  {
   "cell_type": "code",
   "execution_count": 20,
   "metadata": {
    "scrolled": true
   },
   "outputs": [
    {
     "name": "stdout",
     "output_type": "stream",
     "text": [
      "['No', 'Rare', 'Yes', 'no', 'yes']\n"
     ]
    }
   ],
   "source": [
    "print(sorted(pd.unique(df_flightCall['Flight Call'])))"
   ]
  },
  {
   "cell_type": "markdown",
   "metadata": {},
   "source": [
    "**^^ changing the casing to lower case and changing the Rare to 'no' will fix this issue. We change 'Rare' to 'no' since the paper makes this assumption**"
   ]
  },
  {
   "cell_type": "code",
   "execution_count": 21,
   "metadata": {
    "scrolled": true
   },
   "outputs": [
    {
     "name": "stdout",
     "output_type": "stream",
     "text": [
      "['Edge', 'Forest', 'Open', 'edge', 'forest', 'open']\n"
     ]
    }
   ],
   "source": [
    "print(sorted(pd.unique(df_flightCall['Habitat'])))"
   ]
  },
  {
   "cell_type": "markdown",
   "metadata": {},
   "source": [
    "**^^ changing the casing to lower case should solve this issue**"
   ]
  },
  {
   "cell_type": "code",
   "execution_count": 22,
   "metadata": {
    "scrolled": true
   },
   "outputs": [
    {
     "name": "stdout",
     "output_type": "stream",
     "text": [
      "['Lower', 'Lower\\t', 'Upper']\n"
     ]
    }
   ],
   "source": [
    "print(sorted(pd.unique(df_flightCall['Stratum'])))"
   ]
  },
  {
   "cell_type": "markdown",
   "metadata": {},
   "source": [
    "**^^ stripping leading and trailing whitespaces should fix this issue**"
   ]
  },
  {
   "cell_type": "code",
   "execution_count": 23,
   "metadata": {
    "scrolled": true
   },
   "outputs": [
    {
     "name": "stdout",
     "output_type": "stream",
     "text": [
      "['Ammodramus', 'Cardellina', 'Catharus', 'Certhia', 'Cistothorus', 'Contopus', 'Dumetella', 'Empidonax', 'Geothlypis', 'Hylocichla', 'Icteria', 'Icterus', 'Junco', 'Lanius', 'Melospiza', 'Mniotilta', 'Myiarchus', 'Oporornis', 'Oreothlypis', 'Parkesia', 'Passerculus', 'Passerella', 'Passerina', 'Pheucticus', 'Pipilo', 'Piranga', 'Polioptila', 'Pooecetes', 'Protonotaria', 'Regulus', 'Sayornis', 'Seiurus', 'Setophaga', 'Sitta', 'Spizella', 'Spizelloides', 'Sturnella', 'Toxostoma', 'Troglodytes', 'Tyrannus', 'Vermivora', 'Vireo', 'Zonotrichia']\n"
     ]
    }
   ],
   "source": [
    "print(sorted(pd.unique(df_chicagoCollisionData['Genus']))) # unique values seen (all in title case)"
   ]
  },
  {
   "cell_type": "code",
   "execution_count": 24,
   "metadata": {
    "scrolled": true
   },
   "outputs": [
    {
     "name": "stdout",
     "output_type": "stream",
     "text": [
      "['aedon', 'agilis', 'albicollis', 'americana', 'arborea', 'aurocapilla', 'caerulea', 'caerulescens', 'calendula', 'canadensis', 'carolinensis', 'castanea', 'celata', 'cerulea', 'chrysoptera', 'citrea', 'citrina', 'cooperi', 'coronata', 'crinitus', 'cyanea', 'cyanoptera', 'erythrophthalmus', 'excubitor', 'flavifrons', 'flaviventris', 'formosa', 'fusca', 'fuscescens', 'galbula', 'georgiana', 'gilvus', 'gramineus', 'guttatus', 'henslowii', 'hiemalis', 'hyemalis', 'iliaca', 'leconteii', 'leucophrys', 'lincolnii', 'ludovicianus', 'magna', 'magnolia', 'melodia', 'minimus', 'motacilla', 'mustelina', 'nelsoni', 'noveboracensis', 'olivacea', 'olivaceus', 'pallida', 'palmarum', 'palustris', 'passerina', 'pensylvanica', 'peregrina', 'petechia', 'philadelphia', 'philadelphicus', 'phoebe', 'pinus', 'platensis', 'pusilla', 'querula', 'rubra', 'ruficapilla', 'rufum', 'ruticilla', 'sandwichensis', 'satrapa', 'savannarum', 'solitarius', 'spurius', 'striata', 'tigrina', 'traillii', 'trichas', 'tyrannus', 'ustulatus', 'varia', 'virens', 'virescens']\n"
     ]
    }
   ],
   "source": [
    "print(sorted(pd.unique(df_chicagoCollisionData['Species']))) # unique values seen (lower case)"
   ]
  },
  {
   "cell_type": "code",
   "execution_count": 25,
   "metadata": {
    "scrolled": true
   },
   "outputs": [
    {
     "name": "stdout",
     "output_type": "stream",
     "text": [
      "['CHI', 'MP']\n"
     ]
    }
   ],
   "source": [
    "print(sorted(pd.unique(df_chicagoCollisionData['Locality']))) # unique values seen"
   ]
  },
  {
   "cell_type": "markdown",
   "metadata": {},
   "source": [
    "### next, we make all the changes that will fix the issues we identified"
   ]
  },
  {
   "cell_type": "code",
   "execution_count": 26,
   "metadata": {
    "scrolled": true
   },
   "outputs": [],
   "source": [
    "# change 'rare' under df_flightCall['Flight Call'] to 'no' since the paper makes this assumption\n",
    "df_flightCall['Flight Call'] = df_flightCall['Flight Call'].replace('Rare', 'no')"
   ]
  },
  {
   "cell_type": "code",
   "execution_count": 27,
   "metadata": {
    "scrolled": true
   },
   "outputs": [],
   "source": [
    "# changed Icteriidae to Icteridae, after verification on Google\n",
    "df_flightCall['Family'] = df_flightCall['Family'].replace('Icteriidae', 'Icteridae')"
   ]
  },
  {
   "cell_type": "code",
   "execution_count": 28,
   "metadata": {
    "scrolled": true
   },
   "outputs": [],
   "source": [
    "# fix casing\n",
    "\n",
    "df_flightCall['Genus'] = df_flightCall['Genus'].apply(utils.changeToTitleCase)\n",
    "df_chicagoCollisionData['Genus'] = df_chicagoCollisionData['Genus'].apply(utils.changeToTitleCase)\n",
    "df_flightCall['Flight Call'] = df_flightCall['Flight Call'].apply(utils.changeToLowerCase)\n",
    "df_flightCall['Habitat'] = df_flightCall['Habitat'].apply(utils.changeToLowerCase)\n",
    "df_flightCall['Stratum'] = df_flightCall['Stratum'].apply(utils.changeToLowerCase)"
   ]
  },
  {
   "cell_type": "markdown",
   "metadata": {},
   "source": [
    "### <font color=\"red\" > 8. Next, we try to fix the null values in `df_lightLevels` </font>  "
   ]
  },
  {
   "cell_type": "code",
   "execution_count": 29,
   "metadata": {
    "scrolled": true
   },
   "outputs": [],
   "source": [
    "# we drop null values of `df_lightLevels` since knowing the light scores without their dates is not useful.\n",
    "\n",
    "df_lightLevels = df_lightLevels.dropna(subset=['Date'])"
   ]
  },
  {
   "cell_type": "code",
   "execution_count": 30,
   "metadata": {},
   "outputs": [],
   "source": [
    "# next, we drop dates that occur twice under the dates column. By keeping the first occurence and \n",
    "# dropping subsequent occurences, we do not attempt to actively pick the highest light score for repeating dates.\n",
    "\n",
    "df_lightLevels = df_lightLevels.drop_duplicates(subset='Date', keep='first')"
   ]
  },
  {
   "cell_type": "code",
   "execution_count": 31,
   "metadata": {
    "scrolled": true
   },
   "outputs": [],
   "source": [
    "# we also change the datatype under df_lightLevels['Light Score'] to Int16\n",
    "\n",
    "df_lightLevels['Light Score'] = df_lightLevels['Light Score'].astype('Int16')"
   ]
  },
  {
   "cell_type": "markdown",
   "metadata": {},
   "source": [
    "### With the remaining valid values in the `Date` column, we extract information like day of week, day of month, day of year, week of year, month, seasons, quarter, year and try to look for trends using them. "
   ]
  },
  {
   "cell_type": "code",
   "execution_count": 32,
   "metadata": {
    "scrolled": true
   },
   "outputs": [],
   "source": [
    "# before we do so, we need to add Seasons information\n",
    "\n",
    "# https://seasonsyear.com/USA/Illinois/Chicago\n",
    "Seasons_dict = {\n",
    "    1: 0, 2: 0, 12: 0, # 0 = Winter\n",
    "    3: 1, 4: 1, 5: 1,  # 1 = Spring\n",
    "    6: 2, 7: 2, 8: 2,  # 2 = Summer\n",
    "    9: 3, 10: 3, 11: 3  # 3 = Fall or Autumn\n",
    "}"
   ]
  },
  {
   "cell_type": "code",
   "execution_count": 33,
   "metadata": {
    "scrolled": true
   },
   "outputs": [
    {
     "name": "stderr",
     "output_type": "stream",
     "text": [
      "/miniconda/lib/python3.7/site-packages/ipykernel_launcher.py:6: FutureWarning: Series.dt.weekofyear and Series.dt.week have been deprecated.  Please use Series.dt.isocalendar().week instead.\n",
      "  \n"
     ]
    }
   ],
   "source": [
    "df_lightLevels_temp = df_lightLevels.copy()\n",
    "\n",
    "df_lightLevels_temp[\"Day of week\"] = df_lightLevels_temp[\"Date\"].dt.dayofweek # 0 = Monday, 6 = Sunday\n",
    "df_lightLevels_temp[\"Day of month\"] = df_lightLevels_temp[\"Date\"].dt.day\n",
    "df_lightLevels_temp[\"Day of year\"] = df_lightLevels_temp[\"Date\"].dt.dayofyear\n",
    "df_lightLevels_temp[\"Week of year\"] = df_lightLevels_temp[\"Date\"].dt.weekofyear\n",
    "\n",
    "df_lightLevels_temp[\"Month\"] = df_lightLevels_temp[\"Date\"].dt.month\n",
    "df_lightLevels_temp[\"Season\"] = df_lightLevels_temp[\"Date\"].dt.month.apply(lambda val: Seasons_dict[val])\n",
    "df_lightLevels_temp[\"Quarter\"] = df_lightLevels_temp[\"Date\"].dt.quarter\n",
    "df_lightLevels_temp[\"Year\"] = df_lightLevels_temp[\"Date\"].dt.year"
   ]
  },
  {
   "cell_type": "code",
   "execution_count": 34,
   "metadata": {
    "scrolled": true
   },
   "outputs": [
    {
     "data": {
      "text/html": [
       "<div>\n",
       "<style scoped>\n",
       "    .dataframe tbody tr th:only-of-type {\n",
       "        vertical-align: middle;\n",
       "    }\n",
       "\n",
       "    .dataframe tbody tr th {\n",
       "        vertical-align: top;\n",
       "    }\n",
       "\n",
       "    .dataframe thead th {\n",
       "        text-align: right;\n",
       "    }\n",
       "</style>\n",
       "<table border=\"1\" class=\"dataframe\">\n",
       "  <thead>\n",
       "    <tr style=\"text-align: right;\">\n",
       "      <th></th>\n",
       "      <th>Date</th>\n",
       "      <th>Light Score</th>\n",
       "      <th>Day of week</th>\n",
       "      <th>Day of month</th>\n",
       "      <th>Day of year</th>\n",
       "      <th>Week of year</th>\n",
       "      <th>Month</th>\n",
       "      <th>Season</th>\n",
       "      <th>Quarter</th>\n",
       "      <th>Year</th>\n",
       "    </tr>\n",
       "  </thead>\n",
       "  <tbody>\n",
       "    <tr>\n",
       "      <th>0</th>\n",
       "      <td>2010-09-26</td>\n",
       "      <td>4</td>\n",
       "      <td>6</td>\n",
       "      <td>26</td>\n",
       "      <td>269</td>\n",
       "      <td>38</td>\n",
       "      <td>9</td>\n",
       "      <td>3</td>\n",
       "      <td>3</td>\n",
       "      <td>2010</td>\n",
       "    </tr>\n",
       "    <tr>\n",
       "      <th>1</th>\n",
       "      <td>2015-05-07</td>\n",
       "      <td>6</td>\n",
       "      <td>3</td>\n",
       "      <td>7</td>\n",
       "      <td>127</td>\n",
       "      <td>19</td>\n",
       "      <td>5</td>\n",
       "      <td>1</td>\n",
       "      <td>2</td>\n",
       "      <td>2015</td>\n",
       "    </tr>\n",
       "    <tr>\n",
       "      <th>2</th>\n",
       "      <td>2012-03-07</td>\n",
       "      <td>&lt;NA&gt;</td>\n",
       "      <td>2</td>\n",
       "      <td>7</td>\n",
       "      <td>67</td>\n",
       "      <td>10</td>\n",
       "      <td>3</td>\n",
       "      <td>1</td>\n",
       "      <td>1</td>\n",
       "      <td>2012</td>\n",
       "    </tr>\n",
       "    <tr>\n",
       "      <th>3</th>\n",
       "      <td>2000-09-18</td>\n",
       "      <td>15</td>\n",
       "      <td>0</td>\n",
       "      <td>18</td>\n",
       "      <td>262</td>\n",
       "      <td>38</td>\n",
       "      <td>9</td>\n",
       "      <td>3</td>\n",
       "      <td>3</td>\n",
       "      <td>2000</td>\n",
       "    </tr>\n",
       "    <tr>\n",
       "      <th>4</th>\n",
       "      <td>2000-11-10</td>\n",
       "      <td>15</td>\n",
       "      <td>4</td>\n",
       "      <td>10</td>\n",
       "      <td>315</td>\n",
       "      <td>45</td>\n",
       "      <td>11</td>\n",
       "      <td>3</td>\n",
       "      <td>4</td>\n",
       "      <td>2000</td>\n",
       "    </tr>\n",
       "    <tr>\n",
       "      <th>...</th>\n",
       "      <td>...</td>\n",
       "      <td>...</td>\n",
       "      <td>...</td>\n",
       "      <td>...</td>\n",
       "      <td>...</td>\n",
       "      <td>...</td>\n",
       "      <td>...</td>\n",
       "      <td>...</td>\n",
       "      <td>...</td>\n",
       "      <td>...</td>\n",
       "    </tr>\n",
       "    <tr>\n",
       "      <th>3246</th>\n",
       "      <td>2018-05-03</td>\n",
       "      <td>14</td>\n",
       "      <td>3</td>\n",
       "      <td>3</td>\n",
       "      <td>123</td>\n",
       "      <td>18</td>\n",
       "      <td>5</td>\n",
       "      <td>1</td>\n",
       "      <td>2</td>\n",
       "      <td>2018</td>\n",
       "    </tr>\n",
       "    <tr>\n",
       "      <th>3247</th>\n",
       "      <td>2001-11-07</td>\n",
       "      <td>3</td>\n",
       "      <td>2</td>\n",
       "      <td>7</td>\n",
       "      <td>311</td>\n",
       "      <td>45</td>\n",
       "      <td>11</td>\n",
       "      <td>3</td>\n",
       "      <td>4</td>\n",
       "      <td>2001</td>\n",
       "    </tr>\n",
       "    <tr>\n",
       "      <th>3248</th>\n",
       "      <td>2012-09-03</td>\n",
       "      <td>17</td>\n",
       "      <td>0</td>\n",
       "      <td>3</td>\n",
       "      <td>247</td>\n",
       "      <td>36</td>\n",
       "      <td>9</td>\n",
       "      <td>3</td>\n",
       "      <td>3</td>\n",
       "      <td>2012</td>\n",
       "    </tr>\n",
       "    <tr>\n",
       "      <th>3249</th>\n",
       "      <td>2002-03-23</td>\n",
       "      <td>3</td>\n",
       "      <td>5</td>\n",
       "      <td>23</td>\n",
       "      <td>82</td>\n",
       "      <td>12</td>\n",
       "      <td>3</td>\n",
       "      <td>1</td>\n",
       "      <td>1</td>\n",
       "      <td>2002</td>\n",
       "    </tr>\n",
       "    <tr>\n",
       "      <th>3250</th>\n",
       "      <td>2015-08-28</td>\n",
       "      <td>3</td>\n",
       "      <td>4</td>\n",
       "      <td>28</td>\n",
       "      <td>240</td>\n",
       "      <td>35</td>\n",
       "      <td>8</td>\n",
       "      <td>2</td>\n",
       "      <td>3</td>\n",
       "      <td>2015</td>\n",
       "    </tr>\n",
       "  </tbody>\n",
       "</table>\n",
       "<p>3062 rows × 10 columns</p>\n",
       "</div>"
      ],
      "text/plain": [
       "           Date  Light Score  Day of week  Day of month  Day of year  \\\n",
       "0    2010-09-26            4            6            26          269   \n",
       "1    2015-05-07            6            3             7          127   \n",
       "2    2012-03-07         <NA>            2             7           67   \n",
       "3    2000-09-18           15            0            18          262   \n",
       "4    2000-11-10           15            4            10          315   \n",
       "...         ...          ...          ...           ...          ...   \n",
       "3246 2018-05-03           14            3             3          123   \n",
       "3247 2001-11-07            3            2             7          311   \n",
       "3248 2012-09-03           17            0             3          247   \n",
       "3249 2002-03-23            3            5            23           82   \n",
       "3250 2015-08-28            3            4            28          240   \n",
       "\n",
       "      Week of year  Month  Season  Quarter  Year  \n",
       "0               38      9       3        3  2010  \n",
       "1               19      5       1        2  2015  \n",
       "2               10      3       1        1  2012  \n",
       "3               38      9       3        3  2000  \n",
       "4               45     11       3        4  2000  \n",
       "...            ...    ...     ...      ...   ...  \n",
       "3246            18      5       1        2  2018  \n",
       "3247            45     11       3        4  2001  \n",
       "3248            36      9       3        3  2012  \n",
       "3249            12      3       1        1  2002  \n",
       "3250            35      8       2        3  2015  \n",
       "\n",
       "[3062 rows x 10 columns]"
      ]
     },
     "execution_count": 34,
     "metadata": {},
     "output_type": "execute_result"
    }
   ],
   "source": [
    "df_lightLevels_temp"
   ]
  },
  {
   "cell_type": "markdown",
   "metadata": {},
   "source": [
    "We also check if the time part of the datetime column brings in variance to the data."
   ]
  },
  {
   "cell_type": "code",
   "execution_count": 35,
   "metadata": {
    "scrolled": true
   },
   "outputs": [
    {
     "name": "stdout",
     "output_type": "stream",
     "text": [
      "[datetime.time(0, 0)]\n"
     ]
    }
   ],
   "source": [
    "# Unique time occurences in the df_lightLevels['Date'] column\n",
    "\n",
    "print(pd.unique(df_lightLevels['Date'].dt.time))"
   ]
  },
  {
   "cell_type": "code",
   "execution_count": 36,
   "metadata": {
    "scrolled": true
   },
   "outputs": [
    {
     "name": "stdout",
     "output_type": "stream",
     "text": [
      "[datetime.time(0, 0)]\n"
     ]
    }
   ],
   "source": [
    "# Unique time occurences in the df_chicagoCollisionData['Date'] column\n",
    "\n",
    "print(pd.unique(df_chicagoCollisionData['Date'].dt.time))"
   ]
  },
  {
   "cell_type": "markdown",
   "metadata": {},
   "source": [
    "**^^ So, we see time component of the datetime column does not contribute in anyway.**"
   ]
  },
  {
   "cell_type": "markdown",
   "metadata": {},
   "source": [
    "### Let us see if we can find trends in `Light Score` variable and between time and `Light Score` variable."
   ]
  },
  {
   "cell_type": "code",
   "execution_count": 37,
   "metadata": {
    "scrolled": false
   },
   "outputs": [
    {
     "name": "stderr",
     "output_type": "stream",
     "text": [
      "/miniconda/lib/python3.7/site-packages/seaborn/distributions.py:2551: FutureWarning: `distplot` is a deprecated function and will be removed in a future version. Please adapt your code to use either `displot` (a figure-level function with similar flexibility) or `histplot` (an axes-level function for histograms).\n",
      "  warnings.warn(msg, FutureWarning)\n"
     ]
    },
    {
     "data": {
      "text/plain": [
       "<AxesSubplot:ylabel='Density'>"
      ]
     },
     "execution_count": 37,
     "metadata": {},
     "output_type": "execute_result"
    },
    {
     "data": {
      "image/png": "[encoded data removed]",
      "text/plain": [
       "<Figure size 432x288 with 1 Axes>"
      ]
     },
     "metadata": {
      "needs_background": "light"
     },
     "output_type": "display_data"
    }
   ],
   "source": [
    "# extract Light Score values from rows where it is not null\n",
    "\n",
    "y = df_lightLevels_temp[df_lightLevels_temp[\"Light Score\"].isnull() == False].loc[:, \"Light Score\"].to_list()\n",
    "\n",
    "sns.distplot(y) # observe the distribution of values for Light Score variable"
   ]
  },
  {
   "cell_type": "code",
   "execution_count": 38,
   "metadata": {
    "scrolled": false
   },
   "outputs": [
    {
     "data": {
      "image/png": "[encoded data removed]",
      "text/plain": [
       "<Figure size 750x500 with 1 Axes>"
      ]
     },
     "metadata": {
      "needs_background": "light"
     },
     "output_type": "display_data"
    },
    {
     "data": {
      "image/png": "[encoded data removed]",
      "text/plain": [
       "<Figure size 750x500 with 1 Axes>"
      ]
     },
     "metadata": {
      "needs_background": "light"
     },
     "output_type": "display_data"
    },
    {
     "data": {
      "image/png": "[encoded data removed]",
      "text/plain": [
       "<Figure size 750x500 with 1 Axes>"
      ]
     },
     "metadata": {
      "needs_background": "light"
     },
     "output_type": "display_data"
    },
    {
     "data": {
      "image/png": "[encoded data removed]",
      "text/plain": [
       "<Figure size 750x500 with 1 Axes>"
      ]
     },
     "metadata": {
      "needs_background": "light"
     },
     "output_type": "display_data"
    },
    {
     "data": {
      "image/png": "[encoded data removed]",
      "text/plain": [
       "<Figure size 750x500 with 1 Axes>"
      ]
     },
     "metadata": {
      "needs_background": "light"
     },
     "output_type": "display_data"
    },
    {
     "data": {
      "image/png": "[encoded data removed]",
      "text/plain": [
       "<Figure size 750x500 with 1 Axes>"
      ]
     },
     "metadata": {
      "needs_background": "light"
     },
     "output_type": "display_data"
    },
    {
     "data": {
      "image/png": "[encoded data removed]",
      "text/plain": [
       "<Figure size 750x500 with 1 Axes>"
      ]
     },
     "metadata": {
      "needs_background": "light"
     },
     "output_type": "display_data"
    },
    {
     "data": {
      "image/png": "[encoded data removed]",
      "text/plain": [
       "<Figure size 750x500 with 1 Axes>"
      ]
     },
     "metadata": {
      "needs_background": "light"
     },
     "output_type": "display_data"
    }
   ],
   "source": [
    "size = 6 # of one plot\n",
    "\n",
    "x_vars = [\"Day of week\", \"Day of month\", \"Day of year\", \"Week of year\", \"Month\", \"Season\", \"Quarter\", \"Year\"]\n",
    "\n",
    "for ix, columnName in enumerate(x_vars):\n",
    "    x = df_lightLevels_temp[df_lightLevels_temp[\"Light Score\"].isnull() == False].loc[:, columnName].to_list()\n",
    "    \n",
    "    plt.figure(dpi=125) # width, height of whole plot\n",
    "    plt.subplot()\n",
    "    # plt.scatter(x, y)\n",
    "    sns.regplot(x=x, y=y)\n",
    "    plt.title(columnName)"
   ]
  },
  {
   "cell_type": "markdown",
   "metadata": {},
   "source": [
    "**^^ Looking at the Season, Week-of-year, Day-of-year plots, we observe that the collisions drastically reduce during the months of Winter(0), Summer(2) i.e. when the migration of birds in not happens. This is in line with the common knowledge that birds migrate in during Spring and away as Autumn/Fall approaches**"
   ]
  },
  {
   "cell_type": "markdown",
   "metadata": {
    "scrolled": true
   },
   "source": [
    "### ^^ looking at the trends, we cannot reliably impute the missing values under the `df_lightLevels['Light Score']`"
   ]
  },
  {
   "cell_type": "markdown",
   "metadata": {},
   "source": [
    "### <font color='red'> 9. We perform a left join between `df_chicagoCollisionData` and `df_lightLevels` on the column `Date` in the two dataframes </font>"
   ]
  },
  {
   "cell_type": "code",
   "execution_count": 39,
   "metadata": {},
   "outputs": [],
   "source": [
    "df_chicagoCollisionData_LJOIN_lightLevels = df_chicagoCollisionData.merge(df_lightLevels, how='left', on='Date')"
   ]
  },
  {
   "cell_type": "code",
   "execution_count": 40,
   "metadata": {},
   "outputs": [
    {
     "name": "stdout",
     "output_type": "stream",
     "text": [
      "<class 'pandas.core.frame.DataFrame'>\n",
      "Int64Index: 69784 entries, 0 to 69783\n",
      "Data columns (total 5 columns):\n",
      " #   Column       Non-Null Count  Dtype         \n",
      "---  ------       --------------  -----         \n",
      " 0   Genus        69784 non-null  object        \n",
      " 1   Species      69784 non-null  object        \n",
      " 2   Date         69784 non-null  datetime64[ns]\n",
      " 3   Locality     69784 non-null  object        \n",
      " 4   Light Score  40847 non-null  Int16         \n",
      "dtypes: Int16(1), datetime64[ns](1), object(3)\n",
      "memory usage: 2.9+ MB\n"
     ]
    }
   ],
   "source": [
    "df_chicagoCollisionData_LJOIN_lightLevels.info()"
   ]
  },
  {
   "cell_type": "code",
   "execution_count": 41,
   "metadata": {},
   "outputs": [
    {
     "name": "stdout",
     "output_type": "stream",
     "text": [
      "<class 'pandas.core.frame.DataFrame'>\n",
      "Int64Index: 69784 entries, 0 to 69783\n",
      "Data columns (total 4 columns):\n",
      " #   Column    Non-Null Count  Dtype         \n",
      "---  ------    --------------  -----         \n",
      " 0   Genus     69784 non-null  object        \n",
      " 1   Species   69784 non-null  object        \n",
      " 2   Date      69784 non-null  datetime64[ns]\n",
      " 3   Locality  69784 non-null  object        \n",
      "dtypes: datetime64[ns](1), object(3)\n",
      "memory usage: 2.7+ MB\n"
     ]
    }
   ],
   "source": [
    "df_chicagoCollisionData.info()"
   ]
  },
  {
   "cell_type": "markdown",
   "metadata": {},
   "source": [
    "## same no. of rows in the resulting table as the left table means all the duplicates in the right table have been cleaned"
   ]
  },
  {
   "cell_type": "markdown",
   "metadata": {},
   "source": [
    "### <font color='red'> 10. Next, we take the `df_chicagoCollisionData_LJOIN_lightLevels` as the left table and `df_flightCall` as right table and perform left join on the column names `Genus` and `Species`. </font>\n",
    "    \n",
    "### We chose Genus and Species becuase these two constitute a scientific name for each species/type of bird (Source: Paper, Wikipedia)"
   ]
  },
  {
   "cell_type": "code",
   "execution_count": 42,
   "metadata": {},
   "outputs": [],
   "source": [
    "# gives final fully joined dataframe \n",
    "\n",
    "df_fullDataJoined = df_chicagoCollisionData_LJOIN_lightLevels.merge(df_flightCall, how='left', on=['Genus', 'Species'])"
   ]
  },
  {
   "cell_type": "code",
   "execution_count": 43,
   "metadata": {},
   "outputs": [
    {
     "name": "stdout",
     "output_type": "stream",
     "text": [
      "<class 'pandas.core.frame.DataFrame'>\n",
      "Int64Index: 69784 entries, 0 to 69783\n",
      "Data columns (total 10 columns):\n",
      " #   Column       Non-Null Count  Dtype         \n",
      "---  ------       --------------  -----         \n",
      " 0   Genus        69784 non-null  object        \n",
      " 1   Species      69784 non-null  object        \n",
      " 2   Date         69784 non-null  datetime64[ns]\n",
      " 3   Locality     69784 non-null  object        \n",
      " 4   Light Score  40847 non-null  Int16         \n",
      " 5   Family       69695 non-null  object        \n",
      " 6   Collisions   69695 non-null  float64       \n",
      " 7   Flight Call  69695 non-null  object        \n",
      " 8   Habitat      69695 non-null  object        \n",
      " 9   Stratum      69695 non-null  object        \n",
      "dtypes: Int16(1), datetime64[ns](1), float64(1), object(7)\n",
      "memory usage: 5.5+ MB\n"
     ]
    }
   ],
   "source": [
    "df_fullDataJoined.info()"
   ]
  },
  {
   "cell_type": "markdown",
   "metadata": {},
   "source": [
    "## again, same no. of rows in the resulting table as the left table means all the duplicates in the right table have been cleaned"
   ]
  },
  {
   "cell_type": "markdown",
   "metadata": {},
   "source": [
    "### <font color='red'> 11. After joining, we see that 89 rows are still missing information for columns `Family`, `Collisions`, `Flight Call`, `Habitat`, `Stratum`. "
   ]
  },
  {
   "cell_type": "code",
   "execution_count": 44,
   "metadata": {},
   "outputs": [
    {
     "data": {
      "text/html": [
       "<div>\n",
       "<style scoped>\n",
       "    .dataframe tbody tr th:only-of-type {\n",
       "        vertical-align: middle;\n",
       "    }\n",
       "\n",
       "    .dataframe tbody tr th {\n",
       "        vertical-align: top;\n",
       "    }\n",
       "\n",
       "    .dataframe thead th {\n",
       "        text-align: right;\n",
       "    }\n",
       "</style>\n",
       "<table border=\"1\" class=\"dataframe\">\n",
       "  <thead>\n",
       "    <tr style=\"text-align: right;\">\n",
       "      <th></th>\n",
       "      <th>Genus</th>\n",
       "      <th>Species</th>\n",
       "      <th>Date</th>\n",
       "      <th>Locality</th>\n",
       "      <th>Light Score</th>\n",
       "      <th>Family</th>\n",
       "      <th>Collisions</th>\n",
       "      <th>Flight Call</th>\n",
       "      <th>Habitat</th>\n",
       "      <th>Stratum</th>\n",
       "    </tr>\n",
       "  </thead>\n",
       "  <tbody>\n",
       "    <tr>\n",
       "      <th>0</th>\n",
       "      <td>Ammodramus</td>\n",
       "      <td>nelsoni</td>\n",
       "      <td>1982-10-03</td>\n",
       "      <td>MP</td>\n",
       "      <td>&lt;NA&gt;</td>\n",
       "      <td>NaN</td>\n",
       "      <td>NaN</td>\n",
       "      <td>NaN</td>\n",
       "      <td>NaN</td>\n",
       "      <td>NaN</td>\n",
       "    </tr>\n",
       "    <tr>\n",
       "      <th>1</th>\n",
       "      <td>Ammodramus</td>\n",
       "      <td>nelsoni</td>\n",
       "      <td>1984-05-21</td>\n",
       "      <td>CHI</td>\n",
       "      <td>&lt;NA&gt;</td>\n",
       "      <td>NaN</td>\n",
       "      <td>NaN</td>\n",
       "      <td>NaN</td>\n",
       "      <td>NaN</td>\n",
       "      <td>NaN</td>\n",
       "    </tr>\n",
       "    <tr>\n",
       "      <th>2</th>\n",
       "      <td>Ammodramus</td>\n",
       "      <td>nelsoni</td>\n",
       "      <td>1984-05-25</td>\n",
       "      <td>MP</td>\n",
       "      <td>&lt;NA&gt;</td>\n",
       "      <td>NaN</td>\n",
       "      <td>NaN</td>\n",
       "      <td>NaN</td>\n",
       "      <td>NaN</td>\n",
       "      <td>NaN</td>\n",
       "    </tr>\n",
       "    <tr>\n",
       "      <th>3</th>\n",
       "      <td>Ammodramus</td>\n",
       "      <td>nelsoni</td>\n",
       "      <td>1985-10-08</td>\n",
       "      <td>MP</td>\n",
       "      <td>&lt;NA&gt;</td>\n",
       "      <td>NaN</td>\n",
       "      <td>NaN</td>\n",
       "      <td>NaN</td>\n",
       "      <td>NaN</td>\n",
       "      <td>NaN</td>\n",
       "    </tr>\n",
       "    <tr>\n",
       "      <th>4</th>\n",
       "      <td>Ammodramus</td>\n",
       "      <td>nelsoni</td>\n",
       "      <td>1986-09-10</td>\n",
       "      <td>MP</td>\n",
       "      <td>&lt;NA&gt;</td>\n",
       "      <td>NaN</td>\n",
       "      <td>NaN</td>\n",
       "      <td>NaN</td>\n",
       "      <td>NaN</td>\n",
       "      <td>NaN</td>\n",
       "    </tr>\n",
       "    <tr>\n",
       "      <th>...</th>\n",
       "      <td>...</td>\n",
       "      <td>...</td>\n",
       "      <td>...</td>\n",
       "      <td>...</td>\n",
       "      <td>...</td>\n",
       "      <td>...</td>\n",
       "      <td>...</td>\n",
       "      <td>...</td>\n",
       "      <td>...</td>\n",
       "      <td>...</td>\n",
       "    </tr>\n",
       "    <tr>\n",
       "      <th>69779</th>\n",
       "      <td>Melospiza</td>\n",
       "      <td>melodia</td>\n",
       "      <td>2016-10-19</td>\n",
       "      <td>CHI</td>\n",
       "      <td>10</td>\n",
       "      <td>Passerellidae</td>\n",
       "      <td>5124.0</td>\n",
       "      <td>yes</td>\n",
       "      <td>edge</td>\n",
       "      <td>lower</td>\n",
       "    </tr>\n",
       "    <tr>\n",
       "      <th>69780</th>\n",
       "      <td>Melospiza</td>\n",
       "      <td>melodia</td>\n",
       "      <td>2016-10-30</td>\n",
       "      <td>CHI</td>\n",
       "      <td>3</td>\n",
       "      <td>Passerellidae</td>\n",
       "      <td>5124.0</td>\n",
       "      <td>yes</td>\n",
       "      <td>edge</td>\n",
       "      <td>lower</td>\n",
       "    </tr>\n",
       "    <tr>\n",
       "      <th>69781</th>\n",
       "      <td>Zonotrichia</td>\n",
       "      <td>querula</td>\n",
       "      <td>2007-10-15</td>\n",
       "      <td>MP</td>\n",
       "      <td>14</td>\n",
       "      <td>Passerellidae</td>\n",
       "      <td>2.0</td>\n",
       "      <td>yes</td>\n",
       "      <td>edge</td>\n",
       "      <td>lower</td>\n",
       "    </tr>\n",
       "    <tr>\n",
       "      <th>69782</th>\n",
       "      <td>Zonotrichia</td>\n",
       "      <td>querula</td>\n",
       "      <td>2008-10-16</td>\n",
       "      <td>MP</td>\n",
       "      <td>4</td>\n",
       "      <td>Passerellidae</td>\n",
       "      <td>2.0</td>\n",
       "      <td>yes</td>\n",
       "      <td>edge</td>\n",
       "      <td>lower</td>\n",
       "    </tr>\n",
       "    <tr>\n",
       "      <th>69783</th>\n",
       "      <td>Zonotrichia</td>\n",
       "      <td>albicollis</td>\n",
       "      <td>2013-10-22</td>\n",
       "      <td>CHI</td>\n",
       "      <td>8</td>\n",
       "      <td>Passerellidae</td>\n",
       "      <td>10133.0</td>\n",
       "      <td>yes</td>\n",
       "      <td>forest</td>\n",
       "      <td>lower</td>\n",
       "    </tr>\n",
       "  </tbody>\n",
       "</table>\n",
       "<p>69784 rows × 10 columns</p>\n",
       "</div>"
      ],
      "text/plain": [
       "             Genus     Species       Date Locality  Light Score  \\\n",
       "0       Ammodramus     nelsoni 1982-10-03       MP         <NA>   \n",
       "1       Ammodramus     nelsoni 1984-05-21      CHI         <NA>   \n",
       "2       Ammodramus     nelsoni 1984-05-25       MP         <NA>   \n",
       "3       Ammodramus     nelsoni 1985-10-08       MP         <NA>   \n",
       "4       Ammodramus     nelsoni 1986-09-10       MP         <NA>   \n",
       "...            ...         ...        ...      ...          ...   \n",
       "69779    Melospiza     melodia 2016-10-19      CHI           10   \n",
       "69780    Melospiza     melodia 2016-10-30      CHI            3   \n",
       "69781  Zonotrichia     querula 2007-10-15       MP           14   \n",
       "69782  Zonotrichia     querula 2008-10-16       MP            4   \n",
       "69783  Zonotrichia  albicollis 2013-10-22      CHI            8   \n",
       "\n",
       "              Family  Collisions Flight Call Habitat Stratum  \n",
       "0                NaN         NaN         NaN     NaN     NaN  \n",
       "1                NaN         NaN         NaN     NaN     NaN  \n",
       "2                NaN         NaN         NaN     NaN     NaN  \n",
       "3                NaN         NaN         NaN     NaN     NaN  \n",
       "4                NaN         NaN         NaN     NaN     NaN  \n",
       "...              ...         ...         ...     ...     ...  \n",
       "69779  Passerellidae      5124.0         yes    edge   lower  \n",
       "69780  Passerellidae      5124.0         yes    edge   lower  \n",
       "69781  Passerellidae         2.0         yes    edge   lower  \n",
       "69782  Passerellidae         2.0         yes    edge   lower  \n",
       "69783  Passerellidae     10133.0         yes  forest   lower  \n",
       "\n",
       "[69784 rows x 10 columns]"
      ]
     },
     "execution_count": 44,
     "metadata": {},
     "output_type": "execute_result"
    }
   ],
   "source": [
    "df_fullDataJoined"
   ]
  },
  {
   "cell_type": "markdown",
   "metadata": {},
   "source": [
    "These missing values are seen because `df_flightCall` dataframe does not have these rows. We lookup information about the **Genus** and **Species** together i.e. the scientific name, and can find out what family a Genus-Species row belongs to, whether make **Flight Call**, what their **Habitat** is and the **Stratum** they fly in. "
   ]
  },
  {
   "cell_type": "code",
   "execution_count": 45,
   "metadata": {},
   "outputs": [
    {
     "data": {
      "text/plain": [
       "array(['Ammodramus'], dtype=object)"
      ]
     },
     "execution_count": 45,
     "metadata": {},
     "output_type": "execute_result"
    }
   ],
   "source": [
    "pd.unique(df_fullDataJoined[df_fullDataJoined['Family'].isnull()]['Genus'])"
   ]
  },
  {
   "cell_type": "code",
   "execution_count": 46,
   "metadata": {},
   "outputs": [
    {
     "data": {
      "text/plain": [
       "array(['nelsoni', 'henslowii', 'leconteii'], dtype=object)"
      ]
     },
     "execution_count": 46,
     "metadata": {},
     "output_type": "execute_result"
    }
   ],
   "source": [
    "pd.unique(df_fullDataJoined[df_fullDataJoined['Family'].isnull()]['Species'])"
   ]
  },
  {
   "cell_type": "code",
   "execution_count": 47,
   "metadata": {},
   "outputs": [
    {
     "name": "stderr",
     "output_type": "stream",
     "text": [
      "/miniconda/lib/python3.7/site-packages/pandas/core/indexing.py:670: SettingWithCopyWarning: \n",
      "A value is trying to be set on a copy of a slice from a DataFrame\n",
      "\n",
      "See the caveats in the documentation: https://pandas.pydata.org/pandas-docs/stable/user_guide/indexing.html#returning-a-view-versus-a-copy\n",
      "  iloc._setitem_with_indexer(indexer, value)\n"
     ]
    }
   ],
   "source": [
    "# a simple google search tells us that ammodramus genus belongs to Passerellidae family\n",
    "\n",
    "# replace null values in the df_fullDataJoined['Family']\n",
    "df_fullDataJoined[\"Family\"].loc[df_fullDataJoined[\"Genus\"] == \"Ammodramus\"] = \"Passerellidae\""
   ]
  },
  {
   "cell_type": "code",
   "execution_count": 48,
   "metadata": {},
   "outputs": [],
   "source": [
    "# next, we populate flight call, habitat, stratum based on the Genus name since we could not \n",
    "# find specific info about Ammodramus nelsoni, Ammodramus henslowii, Ammodramus leconteii\n",
    "\n",
    "df_fullDataJoined[\"Flight Call\"].loc[df_fullDataJoined[\"Genus\"] == \"Ammodramus\"] = \"yes\"\n",
    "df_fullDataJoined[\"Habitat\"].loc[df_fullDataJoined[\"Genus\"] == \"Ammodramus\"] = \"open\"\n",
    "df_fullDataJoined[\"Stratum\"].loc[df_fullDataJoined[\"Genus\"] == \"Ammodramus\"] = \"lower\""
   ]
  },
  {
   "cell_type": "code",
   "execution_count": 49,
   "metadata": {},
   "outputs": [
    {
     "data": {
      "text/html": [
       "<div>\n",
       "<style scoped>\n",
       "    .dataframe tbody tr th:only-of-type {\n",
       "        vertical-align: middle;\n",
       "    }\n",
       "\n",
       "    .dataframe tbody tr th {\n",
       "        vertical-align: top;\n",
       "    }\n",
       "\n",
       "    .dataframe thead th {\n",
       "        text-align: right;\n",
       "    }\n",
       "</style>\n",
       "<table border=\"1\" class=\"dataframe\">\n",
       "  <thead>\n",
       "    <tr style=\"text-align: right;\">\n",
       "      <th></th>\n",
       "      <th>Genus</th>\n",
       "      <th>Species</th>\n",
       "      <th>Date</th>\n",
       "      <th>Locality</th>\n",
       "      <th>Light Score</th>\n",
       "      <th>Family</th>\n",
       "      <th>Collisions</th>\n",
       "      <th>Flight Call</th>\n",
       "      <th>Habitat</th>\n",
       "      <th>Stratum</th>\n",
       "    </tr>\n",
       "  </thead>\n",
       "  <tbody>\n",
       "    <tr>\n",
       "      <th>0</th>\n",
       "      <td>Ammodramus</td>\n",
       "      <td>nelsoni</td>\n",
       "      <td>1982-10-03</td>\n",
       "      <td>MP</td>\n",
       "      <td>&lt;NA&gt;</td>\n",
       "      <td>Passerellidae</td>\n",
       "      <td>NaN</td>\n",
       "      <td>yes</td>\n",
       "      <td>open</td>\n",
       "      <td>lower</td>\n",
       "    </tr>\n",
       "    <tr>\n",
       "      <th>1</th>\n",
       "      <td>Ammodramus</td>\n",
       "      <td>nelsoni</td>\n",
       "      <td>1984-05-21</td>\n",
       "      <td>CHI</td>\n",
       "      <td>&lt;NA&gt;</td>\n",
       "      <td>Passerellidae</td>\n",
       "      <td>NaN</td>\n",
       "      <td>yes</td>\n",
       "      <td>open</td>\n",
       "      <td>lower</td>\n",
       "    </tr>\n",
       "    <tr>\n",
       "      <th>2</th>\n",
       "      <td>Ammodramus</td>\n",
       "      <td>nelsoni</td>\n",
       "      <td>1984-05-25</td>\n",
       "      <td>MP</td>\n",
       "      <td>&lt;NA&gt;</td>\n",
       "      <td>Passerellidae</td>\n",
       "      <td>NaN</td>\n",
       "      <td>yes</td>\n",
       "      <td>open</td>\n",
       "      <td>lower</td>\n",
       "    </tr>\n",
       "    <tr>\n",
       "      <th>3</th>\n",
       "      <td>Ammodramus</td>\n",
       "      <td>nelsoni</td>\n",
       "      <td>1985-10-08</td>\n",
       "      <td>MP</td>\n",
       "      <td>&lt;NA&gt;</td>\n",
       "      <td>Passerellidae</td>\n",
       "      <td>NaN</td>\n",
       "      <td>yes</td>\n",
       "      <td>open</td>\n",
       "      <td>lower</td>\n",
       "    </tr>\n",
       "    <tr>\n",
       "      <th>4</th>\n",
       "      <td>Ammodramus</td>\n",
       "      <td>nelsoni</td>\n",
       "      <td>1986-09-10</td>\n",
       "      <td>MP</td>\n",
       "      <td>&lt;NA&gt;</td>\n",
       "      <td>Passerellidae</td>\n",
       "      <td>NaN</td>\n",
       "      <td>yes</td>\n",
       "      <td>open</td>\n",
       "      <td>lower</td>\n",
       "    </tr>\n",
       "    <tr>\n",
       "      <th>...</th>\n",
       "      <td>...</td>\n",
       "      <td>...</td>\n",
       "      <td>...</td>\n",
       "      <td>...</td>\n",
       "      <td>...</td>\n",
       "      <td>...</td>\n",
       "      <td>...</td>\n",
       "      <td>...</td>\n",
       "      <td>...</td>\n",
       "      <td>...</td>\n",
       "    </tr>\n",
       "    <tr>\n",
       "      <th>69779</th>\n",
       "      <td>Melospiza</td>\n",
       "      <td>melodia</td>\n",
       "      <td>2016-10-19</td>\n",
       "      <td>CHI</td>\n",
       "      <td>10</td>\n",
       "      <td>Passerellidae</td>\n",
       "      <td>5124.0</td>\n",
       "      <td>yes</td>\n",
       "      <td>edge</td>\n",
       "      <td>lower</td>\n",
       "    </tr>\n",
       "    <tr>\n",
       "      <th>69780</th>\n",
       "      <td>Melospiza</td>\n",
       "      <td>melodia</td>\n",
       "      <td>2016-10-30</td>\n",
       "      <td>CHI</td>\n",
       "      <td>3</td>\n",
       "      <td>Passerellidae</td>\n",
       "      <td>5124.0</td>\n",
       "      <td>yes</td>\n",
       "      <td>edge</td>\n",
       "      <td>lower</td>\n",
       "    </tr>\n",
       "    <tr>\n",
       "      <th>69781</th>\n",
       "      <td>Zonotrichia</td>\n",
       "      <td>querula</td>\n",
       "      <td>2007-10-15</td>\n",
       "      <td>MP</td>\n",
       "      <td>14</td>\n",
       "      <td>Passerellidae</td>\n",
       "      <td>2.0</td>\n",
       "      <td>yes</td>\n",
       "      <td>edge</td>\n",
       "      <td>lower</td>\n",
       "    </tr>\n",
       "    <tr>\n",
       "      <th>69782</th>\n",
       "      <td>Zonotrichia</td>\n",
       "      <td>querula</td>\n",
       "      <td>2008-10-16</td>\n",
       "      <td>MP</td>\n",
       "      <td>4</td>\n",
       "      <td>Passerellidae</td>\n",
       "      <td>2.0</td>\n",
       "      <td>yes</td>\n",
       "      <td>edge</td>\n",
       "      <td>lower</td>\n",
       "    </tr>\n",
       "    <tr>\n",
       "      <th>69783</th>\n",
       "      <td>Zonotrichia</td>\n",
       "      <td>albicollis</td>\n",
       "      <td>2013-10-22</td>\n",
       "      <td>CHI</td>\n",
       "      <td>8</td>\n",
       "      <td>Passerellidae</td>\n",
       "      <td>10133.0</td>\n",
       "      <td>yes</td>\n",
       "      <td>forest</td>\n",
       "      <td>lower</td>\n",
       "    </tr>\n",
       "  </tbody>\n",
       "</table>\n",
       "<p>69784 rows × 10 columns</p>\n",
       "</div>"
      ],
      "text/plain": [
       "             Genus     Species       Date Locality  Light Score  \\\n",
       "0       Ammodramus     nelsoni 1982-10-03       MP         <NA>   \n",
       "1       Ammodramus     nelsoni 1984-05-21      CHI         <NA>   \n",
       "2       Ammodramus     nelsoni 1984-05-25       MP         <NA>   \n",
       "3       Ammodramus     nelsoni 1985-10-08       MP         <NA>   \n",
       "4       Ammodramus     nelsoni 1986-09-10       MP         <NA>   \n",
       "...            ...         ...        ...      ...          ...   \n",
       "69779    Melospiza     melodia 2016-10-19      CHI           10   \n",
       "69780    Melospiza     melodia 2016-10-30      CHI            3   \n",
       "69781  Zonotrichia     querula 2007-10-15       MP           14   \n",
       "69782  Zonotrichia     querula 2008-10-16       MP            4   \n",
       "69783  Zonotrichia  albicollis 2013-10-22      CHI            8   \n",
       "\n",
       "              Family  Collisions Flight Call Habitat Stratum  \n",
       "0      Passerellidae         NaN         yes    open   lower  \n",
       "1      Passerellidae         NaN         yes    open   lower  \n",
       "2      Passerellidae         NaN         yes    open   lower  \n",
       "3      Passerellidae         NaN         yes    open   lower  \n",
       "4      Passerellidae         NaN         yes    open   lower  \n",
       "...              ...         ...         ...     ...     ...  \n",
       "69779  Passerellidae      5124.0         yes    edge   lower  \n",
       "69780  Passerellidae      5124.0         yes    edge   lower  \n",
       "69781  Passerellidae         2.0         yes    edge   lower  \n",
       "69782  Passerellidae         2.0         yes    edge   lower  \n",
       "69783  Passerellidae     10133.0         yes  forest   lower  \n",
       "\n",
       "[69784 rows x 10 columns]"
      ]
     },
     "execution_count": 49,
     "metadata": {},
     "output_type": "execute_result"
    }
   ],
   "source": [
    "df_fullDataJoined # we can see the changes we have made here compared to the above table"
   ]
  },
  {
   "cell_type": "code",
   "execution_count": 50,
   "metadata": {},
   "outputs": [
    {
     "name": "stdout",
     "output_type": "stream",
     "text": [
      "<class 'pandas.core.frame.DataFrame'>\n",
      "Int64Index: 69784 entries, 0 to 69783\n",
      "Data columns (total 10 columns):\n",
      " #   Column       Non-Null Count  Dtype         \n",
      "---  ------       --------------  -----         \n",
      " 0   Genus        69784 non-null  object        \n",
      " 1   Species      69784 non-null  object        \n",
      " 2   Date         69784 non-null  datetime64[ns]\n",
      " 3   Locality     69784 non-null  object        \n",
      " 4   Light Score  40847 non-null  Int16         \n",
      " 5   Family       69784 non-null  object        \n",
      " 6   Collisions   69695 non-null  float64       \n",
      " 7   Flight Call  69784 non-null  object        \n",
      " 8   Habitat      69784 non-null  object        \n",
      " 9   Stratum      69784 non-null  object        \n",
      "dtypes: Int16(1), datetime64[ns](1), float64(1), object(7)\n",
      "memory usage: 5.5+ MB\n"
     ]
    }
   ],
   "source": [
    "df_fullDataJoined.info()"
   ]
  },
  {
   "cell_type": "markdown",
   "metadata": {},
   "source": [
    "### the only null values are under `df_fullDataJoined['Collisions']` and `df_fullDataJoined['Light Score']`"
   ]
  },
  {
   "cell_type": "markdown",
   "metadata": {},
   "source": [
    "### The 69784 - 69695 = 89 values under  `df_fullDataJoined['Collisions']` still remain."
   ]
  },
  {
   "cell_type": "markdown",
   "metadata": {},
   "source": [
    "### <font color='red'> 12. The values under `Collisions` column are the same \"number of rows\" in `df_fullDataJoined` for given `(Family, Genus, Species)` tuple. Therefore, we can just count the number of rows in `df_fullDataJoined` for the tuple and fill in the NA values under `Collisions`. </font>"
   ]
  },
  {
   "cell_type": "markdown",
   "metadata": {},
   "source": [
    "For example,"
   ]
  },
  {
   "cell_type": "code",
   "execution_count": 51,
   "metadata": {},
   "outputs": [
    {
     "data": {
      "text/html": [
       "<div>\n",
       "<style scoped>\n",
       "    .dataframe tbody tr th:only-of-type {\n",
       "        vertical-align: middle;\n",
       "    }\n",
       "\n",
       "    .dataframe tbody tr th {\n",
       "        vertical-align: top;\n",
       "    }\n",
       "\n",
       "    .dataframe thead th {\n",
       "        text-align: right;\n",
       "    }\n",
       "</style>\n",
       "<table border=\"1\" class=\"dataframe\">\n",
       "  <thead>\n",
       "    <tr style=\"text-align: right;\">\n",
       "      <th></th>\n",
       "      <th>Genus</th>\n",
       "      <th>Species</th>\n",
       "      <th>Date</th>\n",
       "      <th>Locality</th>\n",
       "      <th>Light Score</th>\n",
       "      <th>Family</th>\n",
       "      <th>Collisions</th>\n",
       "      <th>Flight Call</th>\n",
       "      <th>Habitat</th>\n",
       "      <th>Stratum</th>\n",
       "    </tr>\n",
       "  </thead>\n",
       "  <tbody>\n",
       "    <tr>\n",
       "      <th>64657</th>\n",
       "      <td>Melospiza</td>\n",
       "      <td>melodia</td>\n",
       "      <td>1978-10-24</td>\n",
       "      <td>MP</td>\n",
       "      <td>&lt;NA&gt;</td>\n",
       "      <td>Passerellidae</td>\n",
       "      <td>5124.0</td>\n",
       "      <td>yes</td>\n",
       "      <td>edge</td>\n",
       "      <td>lower</td>\n",
       "    </tr>\n",
       "    <tr>\n",
       "      <th>64658</th>\n",
       "      <td>Melospiza</td>\n",
       "      <td>melodia</td>\n",
       "      <td>1979-04-13</td>\n",
       "      <td>MP</td>\n",
       "      <td>&lt;NA&gt;</td>\n",
       "      <td>Passerellidae</td>\n",
       "      <td>5124.0</td>\n",
       "      <td>yes</td>\n",
       "      <td>edge</td>\n",
       "      <td>lower</td>\n",
       "    </tr>\n",
       "    <tr>\n",
       "      <th>64659</th>\n",
       "      <td>Melospiza</td>\n",
       "      <td>melodia</td>\n",
       "      <td>1979-08-31</td>\n",
       "      <td>MP</td>\n",
       "      <td>&lt;NA&gt;</td>\n",
       "      <td>Passerellidae</td>\n",
       "      <td>5124.0</td>\n",
       "      <td>yes</td>\n",
       "      <td>edge</td>\n",
       "      <td>lower</td>\n",
       "    </tr>\n",
       "    <tr>\n",
       "      <th>64660</th>\n",
       "      <td>Melospiza</td>\n",
       "      <td>melodia</td>\n",
       "      <td>1979-09-06</td>\n",
       "      <td>MP</td>\n",
       "      <td>&lt;NA&gt;</td>\n",
       "      <td>Passerellidae</td>\n",
       "      <td>5124.0</td>\n",
       "      <td>yes</td>\n",
       "      <td>edge</td>\n",
       "      <td>lower</td>\n",
       "    </tr>\n",
       "    <tr>\n",
       "      <th>64661</th>\n",
       "      <td>Melospiza</td>\n",
       "      <td>melodia</td>\n",
       "      <td>1979-10-09</td>\n",
       "      <td>MP</td>\n",
       "      <td>&lt;NA&gt;</td>\n",
       "      <td>Passerellidae</td>\n",
       "      <td>5124.0</td>\n",
       "      <td>yes</td>\n",
       "      <td>edge</td>\n",
       "      <td>lower</td>\n",
       "    </tr>\n",
       "    <tr>\n",
       "      <th>...</th>\n",
       "      <td>...</td>\n",
       "      <td>...</td>\n",
       "      <td>...</td>\n",
       "      <td>...</td>\n",
       "      <td>...</td>\n",
       "      <td>...</td>\n",
       "      <td>...</td>\n",
       "      <td>...</td>\n",
       "      <td>...</td>\n",
       "      <td>...</td>\n",
       "    </tr>\n",
       "    <tr>\n",
       "      <th>69776</th>\n",
       "      <td>Melospiza</td>\n",
       "      <td>melodia</td>\n",
       "      <td>2016-10-02</td>\n",
       "      <td>CHI</td>\n",
       "      <td>4</td>\n",
       "      <td>Passerellidae</td>\n",
       "      <td>5124.0</td>\n",
       "      <td>yes</td>\n",
       "      <td>edge</td>\n",
       "      <td>lower</td>\n",
       "    </tr>\n",
       "    <tr>\n",
       "      <th>69777</th>\n",
       "      <td>Melospiza</td>\n",
       "      <td>melodia</td>\n",
       "      <td>2016-10-08</td>\n",
       "      <td>CHI</td>\n",
       "      <td>17</td>\n",
       "      <td>Passerellidae</td>\n",
       "      <td>5124.0</td>\n",
       "      <td>yes</td>\n",
       "      <td>edge</td>\n",
       "      <td>lower</td>\n",
       "    </tr>\n",
       "    <tr>\n",
       "      <th>69778</th>\n",
       "      <td>Melospiza</td>\n",
       "      <td>melodia</td>\n",
       "      <td>2016-10-19</td>\n",
       "      <td>CHI</td>\n",
       "      <td>10</td>\n",
       "      <td>Passerellidae</td>\n",
       "      <td>5124.0</td>\n",
       "      <td>yes</td>\n",
       "      <td>edge</td>\n",
       "      <td>lower</td>\n",
       "    </tr>\n",
       "    <tr>\n",
       "      <th>69779</th>\n",
       "      <td>Melospiza</td>\n",
       "      <td>melodia</td>\n",
       "      <td>2016-10-19</td>\n",
       "      <td>CHI</td>\n",
       "      <td>10</td>\n",
       "      <td>Passerellidae</td>\n",
       "      <td>5124.0</td>\n",
       "      <td>yes</td>\n",
       "      <td>edge</td>\n",
       "      <td>lower</td>\n",
       "    </tr>\n",
       "    <tr>\n",
       "      <th>69780</th>\n",
       "      <td>Melospiza</td>\n",
       "      <td>melodia</td>\n",
       "      <td>2016-10-30</td>\n",
       "      <td>CHI</td>\n",
       "      <td>3</td>\n",
       "      <td>Passerellidae</td>\n",
       "      <td>5124.0</td>\n",
       "      <td>yes</td>\n",
       "      <td>edge</td>\n",
       "      <td>lower</td>\n",
       "    </tr>\n",
       "  </tbody>\n",
       "</table>\n",
       "<p>5124 rows × 10 columns</p>\n",
       "</div>"
      ],
      "text/plain": [
       "           Genus  Species       Date Locality  Light Score         Family  \\\n",
       "64657  Melospiza  melodia 1978-10-24       MP         <NA>  Passerellidae   \n",
       "64658  Melospiza  melodia 1979-04-13       MP         <NA>  Passerellidae   \n",
       "64659  Melospiza  melodia 1979-08-31       MP         <NA>  Passerellidae   \n",
       "64660  Melospiza  melodia 1979-09-06       MP         <NA>  Passerellidae   \n",
       "64661  Melospiza  melodia 1979-10-09       MP         <NA>  Passerellidae   \n",
       "...          ...      ...        ...      ...          ...            ...   \n",
       "69776  Melospiza  melodia 2016-10-02      CHI            4  Passerellidae   \n",
       "69777  Melospiza  melodia 2016-10-08      CHI           17  Passerellidae   \n",
       "69778  Melospiza  melodia 2016-10-19      CHI           10  Passerellidae   \n",
       "69779  Melospiza  melodia 2016-10-19      CHI           10  Passerellidae   \n",
       "69780  Melospiza  melodia 2016-10-30      CHI            3  Passerellidae   \n",
       "\n",
       "       Collisions Flight Call Habitat Stratum  \n",
       "64657      5124.0         yes    edge   lower  \n",
       "64658      5124.0         yes    edge   lower  \n",
       "64659      5124.0         yes    edge   lower  \n",
       "64660      5124.0         yes    edge   lower  \n",
       "64661      5124.0         yes    edge   lower  \n",
       "...           ...         ...     ...     ...  \n",
       "69776      5124.0         yes    edge   lower  \n",
       "69777      5124.0         yes    edge   lower  \n",
       "69778      5124.0         yes    edge   lower  \n",
       "69779      5124.0         yes    edge   lower  \n",
       "69780      5124.0         yes    edge   lower  \n",
       "\n",
       "[5124 rows x 10 columns]"
      ]
     },
     "execution_count": 51,
     "metadata": {},
     "output_type": "execute_result"
    }
   ],
   "source": [
    "df_fullDataJoined[(df_fullDataJoined[\"Genus\"] == \"Melospiza\") & (df_fullDataJoined[\"Species\"] == \"melodia\")]"
   ]
  },
  {
   "cell_type": "markdown",
   "metadata": {},
   "source": [
    "**^^ gives 5124 rows which is same as all values under Collisions for this type of bird**"
   ]
  },
  {
   "cell_type": "code",
   "execution_count": 52,
   "metadata": {},
   "outputs": [
    {
     "data": {
      "text/html": [
       "<div>\n",
       "<style scoped>\n",
       "    .dataframe tbody tr th:only-of-type {\n",
       "        vertical-align: middle;\n",
       "    }\n",
       "\n",
       "    .dataframe tbody tr th {\n",
       "        vertical-align: top;\n",
       "    }\n",
       "\n",
       "    .dataframe thead th {\n",
       "        text-align: right;\n",
       "    }\n",
       "</style>\n",
       "<table border=\"1\" class=\"dataframe\">\n",
       "  <thead>\n",
       "    <tr style=\"text-align: right;\">\n",
       "      <th></th>\n",
       "      <th>Genus</th>\n",
       "      <th>Species</th>\n",
       "      <th>Date</th>\n",
       "      <th>Locality</th>\n",
       "      <th>Light Score</th>\n",
       "      <th>Family</th>\n",
       "      <th>Collisions</th>\n",
       "      <th>Flight Call</th>\n",
       "      <th>Habitat</th>\n",
       "      <th>Stratum</th>\n",
       "    </tr>\n",
       "  </thead>\n",
       "  <tbody>\n",
       "    <tr>\n",
       "      <th>69781</th>\n",
       "      <td>Zonotrichia</td>\n",
       "      <td>querula</td>\n",
       "      <td>2007-10-15</td>\n",
       "      <td>MP</td>\n",
       "      <td>14</td>\n",
       "      <td>Passerellidae</td>\n",
       "      <td>2.0</td>\n",
       "      <td>yes</td>\n",
       "      <td>edge</td>\n",
       "      <td>lower</td>\n",
       "    </tr>\n",
       "    <tr>\n",
       "      <th>69782</th>\n",
       "      <td>Zonotrichia</td>\n",
       "      <td>querula</td>\n",
       "      <td>2008-10-16</td>\n",
       "      <td>MP</td>\n",
       "      <td>4</td>\n",
       "      <td>Passerellidae</td>\n",
       "      <td>2.0</td>\n",
       "      <td>yes</td>\n",
       "      <td>edge</td>\n",
       "      <td>lower</td>\n",
       "    </tr>\n",
       "  </tbody>\n",
       "</table>\n",
       "</div>"
      ],
      "text/plain": [
       "             Genus  Species       Date Locality  Light Score         Family  \\\n",
       "69781  Zonotrichia  querula 2007-10-15       MP           14  Passerellidae   \n",
       "69782  Zonotrichia  querula 2008-10-16       MP            4  Passerellidae   \n",
       "\n",
       "       Collisions Flight Call Habitat Stratum  \n",
       "69781         2.0         yes    edge   lower  \n",
       "69782         2.0         yes    edge   lower  "
      ]
     },
     "execution_count": 52,
     "metadata": {},
     "output_type": "execute_result"
    }
   ],
   "source": [
    "df_fullDataJoined[(df_fullDataJoined[\"Genus\"] == \"Zonotrichia\") & (df_fullDataJoined[\"Species\"] == \"querula\")]"
   ]
  },
  {
   "cell_type": "markdown",
   "metadata": {},
   "source": [
    "**^^ gives 2 rows which is same as all values under Collisions for this type of bird**"
   ]
  },
  {
   "cell_type": "markdown",
   "metadata": {},
   "source": [
    "### This was the reason behind renaming the column from `Flight` to `Collisions`"
   ]
  },
  {
   "cell_type": "markdown",
   "metadata": {},
   "source": [
    "### Count the no. of rows for each Family-Genus-species tuple and assign that as the value under `df_fullDataJoined['Collisions']` for that tuple. "
   ]
  },
  {
   "cell_type": "code",
   "execution_count": 53,
   "metadata": {},
   "outputs": [],
   "source": [
    "# we find out the ones we need to do it for\n",
    "\n",
    "df_missingCollisions = df_fullDataJoined[df_fullDataJoined[\"Collisions\"].isnull()]"
   ]
  },
  {
   "cell_type": "code",
   "execution_count": 54,
   "metadata": {},
   "outputs": [
    {
     "data": {
      "text/plain": [
       "array(['Passerellidae'], dtype=object)"
      ]
     },
     "execution_count": 54,
     "metadata": {},
     "output_type": "execute_result"
    }
   ],
   "source": [
    "pd.unique(df_missingCollisions[\"Family\"])"
   ]
  },
  {
   "cell_type": "code",
   "execution_count": 55,
   "metadata": {},
   "outputs": [
    {
     "data": {
      "text/plain": [
       "array(['Ammodramus'], dtype=object)"
      ]
     },
     "execution_count": 55,
     "metadata": {},
     "output_type": "execute_result"
    }
   ],
   "source": [
    "pd.unique(df_missingCollisions[\"Genus\"])"
   ]
  },
  {
   "cell_type": "code",
   "execution_count": 56,
   "metadata": {},
   "outputs": [
    {
     "data": {
      "text/plain": [
       "array(['nelsoni', 'henslowii', 'leconteii'], dtype=object)"
      ]
     },
     "execution_count": 56,
     "metadata": {},
     "output_type": "execute_result"
    }
   ],
   "source": [
    "pd.unique(df_missingCollisions[\"Species\"])"
   ]
  },
  {
   "cell_type": "markdown",
   "metadata": {},
   "source": [
    "So, we have to do it for `(\"Passerellidae\", \"Ammodramus\", \"nelsoni\")`, `(\"Passerellidae\", \"Ammodramus\", \"henslowii\")` and `(\"Passerellidae\", \"Ammodramus\", \"leconteii\")`"
   ]
  },
  {
   "cell_type": "code",
   "execution_count": 57,
   "metadata": {},
   "outputs": [],
   "source": [
    "numCollisions_nelsoni = len(\n",
    "    df_missingCollisions[\n",
    "        (df_missingCollisions[\"Family\"] == \"Passerellidae\") & \\\n",
    "        (df_missingCollisions['Genus'] == \"Ammodramus\") & \\\n",
    "        (df_missingCollisions['Species'] == \"nelsoni\")\n",
    "    ]\n",
    ")\n",
    "\n",
    "numCollisions_henslowii = len(\n",
    "    df_missingCollisions[\n",
    "        (df_missingCollisions[\"Family\"] == \"Passerellidae\") & \\\n",
    "        (df_missingCollisions['Genus'] == \"Ammodramus\") & \\\n",
    "        (df_missingCollisions['Species'] == \"henslowii\")\n",
    "    ]\n",
    ")\n",
    "\n",
    "numCollisions_leconteii = len(\n",
    "    df_missingCollisions[\n",
    "        (df_missingCollisions[\"Family\"] == \"Passerellidae\") & \\\n",
    "        (df_missingCollisions['Genus'] == \"Ammodramus\") & \\\n",
    "        (df_missingCollisions['Species'] == \"leconteii\")\n",
    "    ]\n",
    ")"
   ]
  },
  {
   "cell_type": "code",
   "execution_count": 58,
   "metadata": {},
   "outputs": [],
   "source": [
    "# use these values to impute the collisions column in df_fullDataJoined\n",
    "df_fullDataJoined.loc[\n",
    "    (df_fullDataJoined[\"Family\"] == \"Passerellidae\") & \\\n",
    "    (df_fullDataJoined[\"Genus\"] == \"Ammodramus\") & \\\n",
    "    (df_fullDataJoined[\"Species\"] == \"nelsoni\"), \"Collisions\"\n",
    "] = numCollisions_nelsoni\n",
    "\n",
    "df_fullDataJoined.loc[\n",
    "    (df_fullDataJoined[\"Family\"] == \"Passerellidae\") & \\\n",
    "    (df_fullDataJoined[\"Genus\"] == \"Ammodramus\") & \\\n",
    "    (df_fullDataJoined[\"Species\"] == \"henslowii\"), \"Collisions\"\n",
    "] = numCollisions_henslowii\n",
    "\n",
    "df_fullDataJoined.loc[\n",
    "    (df_fullDataJoined[\"Family\"] == \"Passerellidae\") & \\\n",
    "    (df_fullDataJoined[\"Genus\"] == \"Ammodramus\") & \\\n",
    "    (df_fullDataJoined[\"Species\"] == \"leconteii\"), \"Collisions\"\n",
    "] = numCollisions_leconteii"
   ]
  },
  {
   "cell_type": "markdown",
   "metadata": {},
   "source": [
    "Checking the df_fullDataJoined again, we will see even the collisions column has been filled."
   ]
  },
  {
   "cell_type": "code",
   "execution_count": 59,
   "metadata": {},
   "outputs": [
    {
     "name": "stdout",
     "output_type": "stream",
     "text": [
      "<class 'pandas.core.frame.DataFrame'>\n",
      "Int64Index: 69784 entries, 0 to 69783\n",
      "Data columns (total 10 columns):\n",
      " #   Column       Non-Null Count  Dtype         \n",
      "---  ------       --------------  -----         \n",
      " 0   Genus        69784 non-null  object        \n",
      " 1   Species      69784 non-null  object        \n",
      " 2   Date         69784 non-null  datetime64[ns]\n",
      " 3   Locality     69784 non-null  object        \n",
      " 4   Light Score  40847 non-null  Int16         \n",
      " 5   Family       69784 non-null  object        \n",
      " 6   Collisions   69784 non-null  float64       \n",
      " 7   Flight Call  69784 non-null  object        \n",
      " 8   Habitat      69784 non-null  object        \n",
      " 9   Stratum      69784 non-null  object        \n",
      "dtypes: Int16(1), datetime64[ns](1), float64(1), object(7)\n",
      "memory usage: 5.5+ MB\n"
     ]
    }
   ],
   "source": [
    "df_fullDataJoined.info()"
   ]
  },
  {
   "cell_type": "markdown",
   "metadata": {},
   "source": [
    "### <font color='red'> 13. Finally, we perform a group by operation to group by the columns **`Family`, `Genus`, `Species`** and aggregate values under other columns\n",
    "    \n",
    "  - **`common_Locality`**: The locality where this kind of birds (i.e. that come from this **Family** and with the scientific name (**Genus-Species** pair) collided. Whether it was McCormick Place (MP) or rest of downtown Chicago (CHI).\n",
    "  - **`average_light Score`**: The average light score for which these type of birds met with a collisions. \n",
    "  - **`num_collsions`**: The total count of collisions counted in McCormick Place and downtown Chicago that was record for these type of birds. \n",
    "  - **`flight_Call`**: Do these type of birds make nocturnal flight calls?\n",
    "  - **`habitat`**: What is the habitat for these type of birds?\n",
    "  - **`stratum`**: How high do these type of birds fly?"
   ]
  },
  {
   "cell_type": "code",
   "execution_count": 60,
   "metadata": {},
   "outputs": [],
   "source": [
    "df_summary = df_fullDataJoined.groupby(by=[\"Family\", \"Genus\", \"Species\"], as_index=False).agg(\n",
    "    common_locality = pd.NamedAgg(column=\"Locality\", aggfunc=(lambda x:x.value_counts().index[0])),\n",
    "    average_lightScore = pd.NamedAgg(column=\"Light Score\", aggfunc=\"mean\"),\n",
    "    num_collisions = pd.NamedAgg(column=\"Collisions\", aggfunc=\"first\"),\n",
    "    flight_call = pd.NamedAgg(column=\"Flight Call\", aggfunc=\"first\"),\n",
    "    habitat = pd.NamedAgg(column=\"Habitat\", aggfunc=\"first\"),\n",
    "    stratum = pd.NamedAgg(column=\"Stratum\", aggfunc=\"first\")   )"
   ]
  },
  {
   "cell_type": "code",
   "execution_count": 61,
   "metadata": {},
   "outputs": [],
   "source": [
    "# change dtype to Int16\n",
    "df_summary['num_collisions'] = df_summary['num_collisions'].astype('Int16')"
   ]
  },
  {
   "cell_type": "code",
   "execution_count": 62,
   "metadata": {},
   "outputs": [],
   "source": [
    "# rename columns for better readability\n",
    "\n",
    "df_summary.rename(columns = {\n",
    "    \"common_locality\": \"Common Locality\",\n",
    "    \"average_lightScore\": \"Average Light Score\",\n",
    "    \"num_collisions\": \"Number of Collisions\",\n",
    "    \"flight_call\": \"Flight Call\",\n",
    "    \"habitat\": \"Habitat\",\n",
    "    \"stratum\": \"Stratum\"\n",
    "}, inplace=True)"
   ]
  },
  {
   "cell_type": "code",
   "execution_count": 63,
   "metadata": {},
   "outputs": [
    {
     "data": {
      "text/html": [
       "<div>\n",
       "<style scoped>\n",
       "    .dataframe tbody tr th:only-of-type {\n",
       "        vertical-align: middle;\n",
       "    }\n",
       "\n",
       "    .dataframe tbody tr th {\n",
       "        vertical-align: top;\n",
       "    }\n",
       "\n",
       "    .dataframe thead th {\n",
       "        text-align: right;\n",
       "    }\n",
       "</style>\n",
       "<table border=\"1\" class=\"dataframe\">\n",
       "  <thead>\n",
       "    <tr style=\"text-align: right;\">\n",
       "      <th></th>\n",
       "      <th>Family</th>\n",
       "      <th>Genus</th>\n",
       "      <th>Species</th>\n",
       "      <th>Common Locality</th>\n",
       "      <th>Average Light Score</th>\n",
       "      <th>Number of Collisions</th>\n",
       "      <th>Flight Call</th>\n",
       "      <th>Habitat</th>\n",
       "      <th>Stratum</th>\n",
       "    </tr>\n",
       "  </thead>\n",
       "  <tbody>\n",
       "    <tr>\n",
       "      <th>0</th>\n",
       "      <td>Cardinalidae</td>\n",
       "      <td>Passerina</td>\n",
       "      <td>caerulea</td>\n",
       "      <td>MP</td>\n",
       "      <td>NaN</td>\n",
       "      <td>1</td>\n",
       "      <td>yes</td>\n",
       "      <td>edge</td>\n",
       "      <td>upper</td>\n",
       "    </tr>\n",
       "    <tr>\n",
       "      <th>1</th>\n",
       "      <td>Cardinalidae</td>\n",
       "      <td>Passerina</td>\n",
       "      <td>cyanea</td>\n",
       "      <td>MP</td>\n",
       "      <td>8.268085</td>\n",
       "      <td>725</td>\n",
       "      <td>yes</td>\n",
       "      <td>edge</td>\n",
       "      <td>upper</td>\n",
       "    </tr>\n",
       "    <tr>\n",
       "      <th>2</th>\n",
       "      <td>Cardinalidae</td>\n",
       "      <td>Pheucticus</td>\n",
       "      <td>ludovicianus</td>\n",
       "      <td>CHI</td>\n",
       "      <td>9.327869</td>\n",
       "      <td>397</td>\n",
       "      <td>yes</td>\n",
       "      <td>forest</td>\n",
       "      <td>upper</td>\n",
       "    </tr>\n",
       "    <tr>\n",
       "      <th>3</th>\n",
       "      <td>Cardinalidae</td>\n",
       "      <td>Piranga</td>\n",
       "      <td>olivacea</td>\n",
       "      <td>CHI</td>\n",
       "      <td>7.987013</td>\n",
       "      <td>127</td>\n",
       "      <td>yes</td>\n",
       "      <td>forest</td>\n",
       "      <td>upper</td>\n",
       "    </tr>\n",
       "    <tr>\n",
       "      <th>4</th>\n",
       "      <td>Cardinalidae</td>\n",
       "      <td>Piranga</td>\n",
       "      <td>rubra</td>\n",
       "      <td>CHI</td>\n",
       "      <td>9.142857</td>\n",
       "      <td>9</td>\n",
       "      <td>yes</td>\n",
       "      <td>forest</td>\n",
       "      <td>upper</td>\n",
       "    </tr>\n",
       "    <tr>\n",
       "      <th>...</th>\n",
       "      <td>...</td>\n",
       "      <td>...</td>\n",
       "      <td>...</td>\n",
       "      <td>...</td>\n",
       "      <td>...</td>\n",
       "      <td>...</td>\n",
       "      <td>...</td>\n",
       "      <td>...</td>\n",
       "      <td>...</td>\n",
       "    </tr>\n",
       "    <tr>\n",
       "      <th>86</th>\n",
       "      <td>Vireonidae</td>\n",
       "      <td>Vireo</td>\n",
       "      <td>flavifrons</td>\n",
       "      <td>CHI</td>\n",
       "      <td>8.375000</td>\n",
       "      <td>12</td>\n",
       "      <td>no</td>\n",
       "      <td>forest</td>\n",
       "      <td>upper</td>\n",
       "    </tr>\n",
       "    <tr>\n",
       "      <th>87</th>\n",
       "      <td>Vireonidae</td>\n",
       "      <td>Vireo</td>\n",
       "      <td>gilvus</td>\n",
       "      <td>CHI</td>\n",
       "      <td>6.000000</td>\n",
       "      <td>2</td>\n",
       "      <td>no</td>\n",
       "      <td>forest</td>\n",
       "      <td>upper</td>\n",
       "    </tr>\n",
       "    <tr>\n",
       "      <th>88</th>\n",
       "      <td>Vireonidae</td>\n",
       "      <td>Vireo</td>\n",
       "      <td>olivaceus</td>\n",
       "      <td>CHI</td>\n",
       "      <td>11.000000</td>\n",
       "      <td>133</td>\n",
       "      <td>no</td>\n",
       "      <td>forest</td>\n",
       "      <td>upper</td>\n",
       "    </tr>\n",
       "    <tr>\n",
       "      <th>89</th>\n",
       "      <td>Vireonidae</td>\n",
       "      <td>Vireo</td>\n",
       "      <td>philadelphicus</td>\n",
       "      <td>CHI</td>\n",
       "      <td>13.100000</td>\n",
       "      <td>12</td>\n",
       "      <td>no</td>\n",
       "      <td>forest</td>\n",
       "      <td>upper</td>\n",
       "    </tr>\n",
       "    <tr>\n",
       "      <th>90</th>\n",
       "      <td>Vireonidae</td>\n",
       "      <td>Vireo</td>\n",
       "      <td>solitarius</td>\n",
       "      <td>CHI</td>\n",
       "      <td>9.562500</td>\n",
       "      <td>18</td>\n",
       "      <td>no</td>\n",
       "      <td>forest</td>\n",
       "      <td>upper</td>\n",
       "    </tr>\n",
       "  </tbody>\n",
       "</table>\n",
       "<p>91 rows × 9 columns</p>\n",
       "</div>"
      ],
      "text/plain": [
       "          Family       Genus         Species Common Locality  \\\n",
       "0   Cardinalidae   Passerina        caerulea              MP   \n",
       "1   Cardinalidae   Passerina          cyanea              MP   \n",
       "2   Cardinalidae  Pheucticus    ludovicianus             CHI   \n",
       "3   Cardinalidae     Piranga        olivacea             CHI   \n",
       "4   Cardinalidae     Piranga           rubra             CHI   \n",
       "..           ...         ...             ...             ...   \n",
       "86    Vireonidae       Vireo      flavifrons             CHI   \n",
       "87    Vireonidae       Vireo          gilvus             CHI   \n",
       "88    Vireonidae       Vireo       olivaceus             CHI   \n",
       "89    Vireonidae       Vireo  philadelphicus             CHI   \n",
       "90    Vireonidae       Vireo      solitarius             CHI   \n",
       "\n",
       "    Average Light Score  Number of Collisions Flight Call Habitat Stratum  \n",
       "0                   NaN                     1         yes    edge   upper  \n",
       "1              8.268085                   725         yes    edge   upper  \n",
       "2              9.327869                   397         yes  forest   upper  \n",
       "3              7.987013                   127         yes  forest   upper  \n",
       "4              9.142857                     9         yes  forest   upper  \n",
       "..                  ...                   ...         ...     ...     ...  \n",
       "86             8.375000                    12          no  forest   upper  \n",
       "87             6.000000                     2          no  forest   upper  \n",
       "88            11.000000                   133          no  forest   upper  \n",
       "89            13.100000                    12          no  forest   upper  \n",
       "90             9.562500                    18          no  forest   upper  \n",
       "\n",
       "[91 rows x 9 columns]"
      ]
     },
     "execution_count": 63,
     "metadata": {},
     "output_type": "execute_result"
    }
   ],
   "source": [
    "df_summary # same no. of rows as df_flightCall -- makes sense since we are collecting summary information \n",
    "# for each type of bird"
   ]
  },
  {
   "cell_type": "markdown",
   "metadata": {},
   "source": [
    "### <font color='red'> 14. Finally, we save the dataframe as a CSV file named **summary_table.csv**. Along with it, we can also save `df_fullDataJoined` as **fullDataJoined_table.csv**. </font>"
   ]
  },
  {
   "cell_type": "code",
   "execution_count": 64,
   "metadata": {},
   "outputs": [],
   "source": [
    "df_summary.to_csv(os.path.join(outputDir, 'summary_table.csv'), index=False)\n",
    "df_fullDataJoined.to_csv(os.path.join(outputDir, 'fullDataJoined_table.csv'), index=False)"
   ]
  },
  {
   "cell_type": "code",
   "execution_count": null,
   "metadata": {},
   "outputs": [],
   "source": []
  },
  {
   "cell_type": "markdown",
   "metadata": {},
   "source": [
    "# Basic Analysis of the Data"
   ]
  },
  {
   "cell_type": "code",
   "execution_count": 65,
   "metadata": {},
   "outputs": [],
   "source": [
    "df_summary_copy = df_summary.copy()"
   ]
  },
  {
   "cell_type": "code",
   "execution_count": 66,
   "metadata": {},
   "outputs": [
    {
     "data": {
      "text/html": [
       "<div>\n",
       "<style scoped>\n",
       "    .dataframe tbody tr th:only-of-type {\n",
       "        vertical-align: middle;\n",
       "    }\n",
       "\n",
       "    .dataframe tbody tr th {\n",
       "        vertical-align: top;\n",
       "    }\n",
       "\n",
       "    .dataframe thead th {\n",
       "        text-align: right;\n",
       "    }\n",
       "</style>\n",
       "<table border=\"1\" class=\"dataframe\">\n",
       "  <thead>\n",
       "    <tr style=\"text-align: right;\">\n",
       "      <th></th>\n",
       "      <th>Family</th>\n",
       "      <th>Genus</th>\n",
       "      <th>Species</th>\n",
       "      <th>Common Locality</th>\n",
       "      <th>Average Light Score</th>\n",
       "      <th>Number of Collisions</th>\n",
       "      <th>Flight Call</th>\n",
       "      <th>Habitat</th>\n",
       "      <th>Stratum</th>\n",
       "    </tr>\n",
       "  </thead>\n",
       "  <tbody>\n",
       "    <tr>\n",
       "      <th>0</th>\n",
       "      <td>Cardinalidae</td>\n",
       "      <td>Passerina</td>\n",
       "      <td>caerulea</td>\n",
       "      <td>MP</td>\n",
       "      <td>NaN</td>\n",
       "      <td>1</td>\n",
       "      <td>yes</td>\n",
       "      <td>edge</td>\n",
       "      <td>upper</td>\n",
       "    </tr>\n",
       "    <tr>\n",
       "      <th>1</th>\n",
       "      <td>Cardinalidae</td>\n",
       "      <td>Passerina</td>\n",
       "      <td>cyanea</td>\n",
       "      <td>MP</td>\n",
       "      <td>8.268085</td>\n",
       "      <td>725</td>\n",
       "      <td>yes</td>\n",
       "      <td>edge</td>\n",
       "      <td>upper</td>\n",
       "    </tr>\n",
       "    <tr>\n",
       "      <th>2</th>\n",
       "      <td>Cardinalidae</td>\n",
       "      <td>Pheucticus</td>\n",
       "      <td>ludovicianus</td>\n",
       "      <td>CHI</td>\n",
       "      <td>9.327869</td>\n",
       "      <td>397</td>\n",
       "      <td>yes</td>\n",
       "      <td>forest</td>\n",
       "      <td>upper</td>\n",
       "    </tr>\n",
       "    <tr>\n",
       "      <th>3</th>\n",
       "      <td>Cardinalidae</td>\n",
       "      <td>Piranga</td>\n",
       "      <td>olivacea</td>\n",
       "      <td>CHI</td>\n",
       "      <td>7.987013</td>\n",
       "      <td>127</td>\n",
       "      <td>yes</td>\n",
       "      <td>forest</td>\n",
       "      <td>upper</td>\n",
       "    </tr>\n",
       "    <tr>\n",
       "      <th>4</th>\n",
       "      <td>Cardinalidae</td>\n",
       "      <td>Piranga</td>\n",
       "      <td>rubra</td>\n",
       "      <td>CHI</td>\n",
       "      <td>9.142857</td>\n",
       "      <td>9</td>\n",
       "      <td>yes</td>\n",
       "      <td>forest</td>\n",
       "      <td>upper</td>\n",
       "    </tr>\n",
       "    <tr>\n",
       "      <th>...</th>\n",
       "      <td>...</td>\n",
       "      <td>...</td>\n",
       "      <td>...</td>\n",
       "      <td>...</td>\n",
       "      <td>...</td>\n",
       "      <td>...</td>\n",
       "      <td>...</td>\n",
       "      <td>...</td>\n",
       "      <td>...</td>\n",
       "    </tr>\n",
       "    <tr>\n",
       "      <th>86</th>\n",
       "      <td>Vireonidae</td>\n",
       "      <td>Vireo</td>\n",
       "      <td>flavifrons</td>\n",
       "      <td>CHI</td>\n",
       "      <td>8.375000</td>\n",
       "      <td>12</td>\n",
       "      <td>no</td>\n",
       "      <td>forest</td>\n",
       "      <td>upper</td>\n",
       "    </tr>\n",
       "    <tr>\n",
       "      <th>87</th>\n",
       "      <td>Vireonidae</td>\n",
       "      <td>Vireo</td>\n",
       "      <td>gilvus</td>\n",
       "      <td>CHI</td>\n",
       "      <td>6.000000</td>\n",
       "      <td>2</td>\n",
       "      <td>no</td>\n",
       "      <td>forest</td>\n",
       "      <td>upper</td>\n",
       "    </tr>\n",
       "    <tr>\n",
       "      <th>88</th>\n",
       "      <td>Vireonidae</td>\n",
       "      <td>Vireo</td>\n",
       "      <td>olivaceus</td>\n",
       "      <td>CHI</td>\n",
       "      <td>11.000000</td>\n",
       "      <td>133</td>\n",
       "      <td>no</td>\n",
       "      <td>forest</td>\n",
       "      <td>upper</td>\n",
       "    </tr>\n",
       "    <tr>\n",
       "      <th>89</th>\n",
       "      <td>Vireonidae</td>\n",
       "      <td>Vireo</td>\n",
       "      <td>philadelphicus</td>\n",
       "      <td>CHI</td>\n",
       "      <td>13.100000</td>\n",
       "      <td>12</td>\n",
       "      <td>no</td>\n",
       "      <td>forest</td>\n",
       "      <td>upper</td>\n",
       "    </tr>\n",
       "    <tr>\n",
       "      <th>90</th>\n",
       "      <td>Vireonidae</td>\n",
       "      <td>Vireo</td>\n",
       "      <td>solitarius</td>\n",
       "      <td>CHI</td>\n",
       "      <td>9.562500</td>\n",
       "      <td>18</td>\n",
       "      <td>no</td>\n",
       "      <td>forest</td>\n",
       "      <td>upper</td>\n",
       "    </tr>\n",
       "  </tbody>\n",
       "</table>\n",
       "<p>91 rows × 9 columns</p>\n",
       "</div>"
      ],
      "text/plain": [
       "          Family       Genus         Species Common Locality  \\\n",
       "0   Cardinalidae   Passerina        caerulea              MP   \n",
       "1   Cardinalidae   Passerina          cyanea              MP   \n",
       "2   Cardinalidae  Pheucticus    ludovicianus             CHI   \n",
       "3   Cardinalidae     Piranga        olivacea             CHI   \n",
       "4   Cardinalidae     Piranga           rubra             CHI   \n",
       "..           ...         ...             ...             ...   \n",
       "86    Vireonidae       Vireo      flavifrons             CHI   \n",
       "87    Vireonidae       Vireo          gilvus             CHI   \n",
       "88    Vireonidae       Vireo       olivaceus             CHI   \n",
       "89    Vireonidae       Vireo  philadelphicus             CHI   \n",
       "90    Vireonidae       Vireo      solitarius             CHI   \n",
       "\n",
       "    Average Light Score  Number of Collisions Flight Call Habitat Stratum  \n",
       "0                   NaN                     1         yes    edge   upper  \n",
       "1              8.268085                   725         yes    edge   upper  \n",
       "2              9.327869                   397         yes  forest   upper  \n",
       "3              7.987013                   127         yes  forest   upper  \n",
       "4              9.142857                     9         yes  forest   upper  \n",
       "..                  ...                   ...         ...     ...     ...  \n",
       "86             8.375000                    12          no  forest   upper  \n",
       "87             6.000000                     2          no  forest   upper  \n",
       "88            11.000000                   133          no  forest   upper  \n",
       "89            13.100000                    12          no  forest   upper  \n",
       "90             9.562500                    18          no  forest   upper  \n",
       "\n",
       "[91 rows x 9 columns]"
      ]
     },
     "execution_count": 66,
     "metadata": {},
     "output_type": "execute_result"
    }
   ],
   "source": [
    "df_summary_copy"
   ]
  },
  {
   "cell_type": "code",
   "execution_count": 71,
   "metadata": {},
   "outputs": [
    {
     "data": {
      "text/html": [
       "<div>\n",
       "<style scoped>\n",
       "    .dataframe tbody tr th:only-of-type {\n",
       "        vertical-align: middle;\n",
       "    }\n",
       "\n",
       "    .dataframe tbody tr th {\n",
       "        vertical-align: top;\n",
       "    }\n",
       "\n",
       "    .dataframe thead th {\n",
       "        text-align: right;\n",
       "    }\n",
       "</style>\n",
       "<table border=\"1\" class=\"dataframe\">\n",
       "  <thead>\n",
       "    <tr style=\"text-align: right;\">\n",
       "      <th></th>\n",
       "      <th>Family</th>\n",
       "      <th>Genus</th>\n",
       "      <th>Species</th>\n",
       "      <th>Common Locality</th>\n",
       "      <th>Average Light Score</th>\n",
       "      <th>Number of Collisions</th>\n",
       "      <th>Flight Call</th>\n",
       "      <th>Habitat</th>\n",
       "      <th>Stratum</th>\n",
       "    </tr>\n",
       "  </thead>\n",
       "  <tbody>\n",
       "    <tr>\n",
       "      <th>61</th>\n",
       "      <td>Passerellidae</td>\n",
       "      <td>Zonotrichia</td>\n",
       "      <td>albicollis</td>\n",
       "      <td>CHI</td>\n",
       "      <td>10.180343</td>\n",
       "      <td>10133</td>\n",
       "      <td>yes</td>\n",
       "      <td>forest</td>\n",
       "      <td>lower</td>\n",
       "    </tr>\n",
       "    <tr>\n",
       "      <th>49</th>\n",
       "      <td>Passerellidae</td>\n",
       "      <td>Junco</td>\n",
       "      <td>hyemalis</td>\n",
       "      <td>MP</td>\n",
       "      <td>11.809163</td>\n",
       "      <td>6303</td>\n",
       "      <td>yes</td>\n",
       "      <td>edge</td>\n",
       "      <td>lower</td>\n",
       "    </tr>\n",
       "    <tr>\n",
       "      <th>52</th>\n",
       "      <td>Passerellidae</td>\n",
       "      <td>Melospiza</td>\n",
       "      <td>melodia</td>\n",
       "      <td>MP</td>\n",
       "      <td>12.552785</td>\n",
       "      <td>5124</td>\n",
       "      <td>yes</td>\n",
       "      <td>edge</td>\n",
       "      <td>lower</td>\n",
       "    </tr>\n",
       "    <tr>\n",
       "      <th>50</th>\n",
       "      <td>Passerellidae</td>\n",
       "      <td>Melospiza</td>\n",
       "      <td>georgiana</td>\n",
       "      <td>MP</td>\n",
       "      <td>11.100154</td>\n",
       "      <td>4910</td>\n",
       "      <td>yes</td>\n",
       "      <td>open</td>\n",
       "      <td>lower</td>\n",
       "    </tr>\n",
       "    <tr>\n",
       "      <th>26</th>\n",
       "      <td>Parulidae</td>\n",
       "      <td>Seiurus</td>\n",
       "      <td>aurocapilla</td>\n",
       "      <td>CHI</td>\n",
       "      <td>11.014281</td>\n",
       "      <td>4580</td>\n",
       "      <td>yes</td>\n",
       "      <td>forest</td>\n",
       "      <td>lower</td>\n",
       "    </tr>\n",
       "    <tr>\n",
       "      <th>...</th>\n",
       "      <td>...</td>\n",
       "      <td>...</td>\n",
       "      <td>...</td>\n",
       "      <td>...</td>\n",
       "      <td>...</td>\n",
       "      <td>...</td>\n",
       "      <td>...</td>\n",
       "      <td>...</td>\n",
       "      <td>...</td>\n",
       "    </tr>\n",
       "    <tr>\n",
       "      <th>30</th>\n",
       "      <td>Parulidae</td>\n",
       "      <td>Setophaga</td>\n",
       "      <td>cerulea</td>\n",
       "      <td>CHI</td>\n",
       "      <td>5.000000</td>\n",
       "      <td>3</td>\n",
       "      <td>yes</td>\n",
       "      <td>forest</td>\n",
       "      <td>upper</td>\n",
       "    </tr>\n",
       "    <tr>\n",
       "      <th>63</th>\n",
       "      <td>Passerellidae</td>\n",
       "      <td>Zonotrichia</td>\n",
       "      <td>querula</td>\n",
       "      <td>MP</td>\n",
       "      <td>9.000000</td>\n",
       "      <td>2</td>\n",
       "      <td>yes</td>\n",
       "      <td>edge</td>\n",
       "      <td>lower</td>\n",
       "    </tr>\n",
       "    <tr>\n",
       "      <th>87</th>\n",
       "      <td>Vireonidae</td>\n",
       "      <td>Vireo</td>\n",
       "      <td>gilvus</td>\n",
       "      <td>CHI</td>\n",
       "      <td>6.000000</td>\n",
       "      <td>2</td>\n",
       "      <td>no</td>\n",
       "      <td>forest</td>\n",
       "      <td>upper</td>\n",
       "    </tr>\n",
       "    <tr>\n",
       "      <th>10</th>\n",
       "      <td>Laniidae</td>\n",
       "      <td>Lanius</td>\n",
       "      <td>excubitor</td>\n",
       "      <td>MP</td>\n",
       "      <td>16.000000</td>\n",
       "      <td>1</td>\n",
       "      <td>no</td>\n",
       "      <td>open</td>\n",
       "      <td>upper</td>\n",
       "    </tr>\n",
       "    <tr>\n",
       "      <th>0</th>\n",
       "      <td>Cardinalidae</td>\n",
       "      <td>Passerina</td>\n",
       "      <td>caerulea</td>\n",
       "      <td>MP</td>\n",
       "      <td>NaN</td>\n",
       "      <td>1</td>\n",
       "      <td>yes</td>\n",
       "      <td>edge</td>\n",
       "      <td>upper</td>\n",
       "    </tr>\n",
       "  </tbody>\n",
       "</table>\n",
       "<p>91 rows × 9 columns</p>\n",
       "</div>"
      ],
      "text/plain": [
       "           Family        Genus      Species Common Locality  \\\n",
       "61  Passerellidae  Zonotrichia   albicollis             CHI   \n",
       "49  Passerellidae        Junco     hyemalis              MP   \n",
       "52  Passerellidae    Melospiza      melodia              MP   \n",
       "50  Passerellidae    Melospiza    georgiana              MP   \n",
       "26      Parulidae      Seiurus  aurocapilla             CHI   \n",
       "..            ...          ...          ...             ...   \n",
       "30      Parulidae    Setophaga      cerulea             CHI   \n",
       "63  Passerellidae  Zonotrichia      querula              MP   \n",
       "87     Vireonidae        Vireo       gilvus             CHI   \n",
       "10       Laniidae       Lanius    excubitor              MP   \n",
       "0    Cardinalidae    Passerina     caerulea              MP   \n",
       "\n",
       "    Average Light Score  Number of Collisions Flight Call Habitat Stratum  \n",
       "61            10.180343                 10133         yes  forest   lower  \n",
       "49            11.809163                  6303         yes    edge   lower  \n",
       "52            12.552785                  5124         yes    edge   lower  \n",
       "50            11.100154                  4910         yes    open   lower  \n",
       "26            11.014281                  4580         yes  forest   lower  \n",
       "..                  ...                   ...         ...     ...     ...  \n",
       "30             5.000000                     3         yes  forest   upper  \n",
       "63             9.000000                     2         yes    edge   lower  \n",
       "87             6.000000                     2          no  forest   upper  \n",
       "10            16.000000                     1          no    open   upper  \n",
       "0                   NaN                     1         yes    edge   upper  \n",
       "\n",
       "[91 rows x 9 columns]"
      ]
     },
     "execution_count": 71,
     "metadata": {},
     "output_type": "execute_result"
    }
   ],
   "source": [
    "df_summary_copy.sort_values(by=\"Number of Collisions\", ascending=False, inplace=True)\n",
    "df_summary_copy"
   ]
  },
  {
   "cell_type": "markdown",
   "metadata": {},
   "source": [
    "### ^^^ Zonotrichia albicollis is the species that collides the most among the recorded cases. It makes nocturnal flight calls and this leads to the increased number of collisions, which is in agreement with the paper. "
   ]
  },
  {
   "cell_type": "code",
   "execution_count": 75,
   "metadata": {},
   "outputs": [],
   "source": [
    "df_summary_Passerellidae = df_summary_copy.loc[df_summary_copy[\"Family\"]==\"Passerellidae\"]"
   ]
  },
  {
   "cell_type": "code",
   "execution_count": 76,
   "metadata": {},
   "outputs": [
    {
     "data": {
      "text/html": [
       "<div>\n",
       "<style scoped>\n",
       "    .dataframe tbody tr th:only-of-type {\n",
       "        vertical-align: middle;\n",
       "    }\n",
       "\n",
       "    .dataframe tbody tr th {\n",
       "        vertical-align: top;\n",
       "    }\n",
       "\n",
       "    .dataframe thead th {\n",
       "        text-align: right;\n",
       "    }\n",
       "</style>\n",
       "<table border=\"1\" class=\"dataframe\">\n",
       "  <thead>\n",
       "    <tr style=\"text-align: right;\">\n",
       "      <th></th>\n",
       "      <th>Family</th>\n",
       "      <th>Genus</th>\n",
       "      <th>Species</th>\n",
       "      <th>Common Locality</th>\n",
       "      <th>Average Light Score</th>\n",
       "      <th>Number of Collisions</th>\n",
       "      <th>Flight Call</th>\n",
       "      <th>Habitat</th>\n",
       "      <th>Stratum</th>\n",
       "    </tr>\n",
       "  </thead>\n",
       "  <tbody>\n",
       "    <tr>\n",
       "      <th>61</th>\n",
       "      <td>Passerellidae</td>\n",
       "      <td>Zonotrichia</td>\n",
       "      <td>albicollis</td>\n",
       "      <td>CHI</td>\n",
       "      <td>10.180343</td>\n",
       "      <td>10133</td>\n",
       "      <td>yes</td>\n",
       "      <td>forest</td>\n",
       "      <td>lower</td>\n",
       "    </tr>\n",
       "    <tr>\n",
       "      <th>49</th>\n",
       "      <td>Passerellidae</td>\n",
       "      <td>Junco</td>\n",
       "      <td>hyemalis</td>\n",
       "      <td>MP</td>\n",
       "      <td>11.809163</td>\n",
       "      <td>6303</td>\n",
       "      <td>yes</td>\n",
       "      <td>edge</td>\n",
       "      <td>lower</td>\n",
       "    </tr>\n",
       "    <tr>\n",
       "      <th>52</th>\n",
       "      <td>Passerellidae</td>\n",
       "      <td>Melospiza</td>\n",
       "      <td>melodia</td>\n",
       "      <td>MP</td>\n",
       "      <td>12.552785</td>\n",
       "      <td>5124</td>\n",
       "      <td>yes</td>\n",
       "      <td>edge</td>\n",
       "      <td>lower</td>\n",
       "    </tr>\n",
       "    <tr>\n",
       "      <th>50</th>\n",
       "      <td>Passerellidae</td>\n",
       "      <td>Melospiza</td>\n",
       "      <td>georgiana</td>\n",
       "      <td>MP</td>\n",
       "      <td>11.100154</td>\n",
       "      <td>4910</td>\n",
       "      <td>yes</td>\n",
       "      <td>open</td>\n",
       "      <td>lower</td>\n",
       "    </tr>\n",
       "    <tr>\n",
       "      <th>54</th>\n",
       "      <td>Passerellidae</td>\n",
       "      <td>Passerella</td>\n",
       "      <td>iliaca</td>\n",
       "      <td>MP</td>\n",
       "      <td>12.082737</td>\n",
       "      <td>2443</td>\n",
       "      <td>yes</td>\n",
       "      <td>edge</td>\n",
       "      <td>lower</td>\n",
       "    </tr>\n",
       "    <tr>\n",
       "      <th>51</th>\n",
       "      <td>Passerellidae</td>\n",
       "      <td>Melospiza</td>\n",
       "      <td>lincolnii</td>\n",
       "      <td>MP</td>\n",
       "      <td>11.086758</td>\n",
       "      <td>2029</td>\n",
       "      <td>yes</td>\n",
       "      <td>edge</td>\n",
       "      <td>lower</td>\n",
       "    </tr>\n",
       "    <tr>\n",
       "      <th>60</th>\n",
       "      <td>Passerellidae</td>\n",
       "      <td>Spizelloides</td>\n",
       "      <td>arborea</td>\n",
       "      <td>MP</td>\n",
       "      <td>12.294595</td>\n",
       "      <td>1262</td>\n",
       "      <td>yes</td>\n",
       "      <td>edge</td>\n",
       "      <td>lower</td>\n",
       "    </tr>\n",
       "    <tr>\n",
       "      <th>62</th>\n",
       "      <td>Passerellidae</td>\n",
       "      <td>Zonotrichia</td>\n",
       "      <td>leucophrys</td>\n",
       "      <td>MP</td>\n",
       "      <td>11.530612</td>\n",
       "      <td>1090</td>\n",
       "      <td>yes</td>\n",
       "      <td>edge</td>\n",
       "      <td>lower</td>\n",
       "    </tr>\n",
       "    <tr>\n",
       "      <th>59</th>\n",
       "      <td>Passerellidae</td>\n",
       "      <td>Spizella</td>\n",
       "      <td>pusilla</td>\n",
       "      <td>MP</td>\n",
       "      <td>10.819672</td>\n",
       "      <td>325</td>\n",
       "      <td>yes</td>\n",
       "      <td>open</td>\n",
       "      <td>lower</td>\n",
       "    </tr>\n",
       "    <tr>\n",
       "      <th>53</th>\n",
       "      <td>Passerellidae</td>\n",
       "      <td>Passerculus</td>\n",
       "      <td>sandwichensis</td>\n",
       "      <td>MP</td>\n",
       "      <td>13.410526</td>\n",
       "      <td>274</td>\n",
       "      <td>yes</td>\n",
       "      <td>open</td>\n",
       "      <td>lower</td>\n",
       "    </tr>\n",
       "    <tr>\n",
       "      <th>48</th>\n",
       "      <td>Passerellidae</td>\n",
       "      <td>Ammodramus</td>\n",
       "      <td>savannarum</td>\n",
       "      <td>MP</td>\n",
       "      <td>10.151515</td>\n",
       "      <td>106</td>\n",
       "      <td>yes</td>\n",
       "      <td>open</td>\n",
       "      <td>lower</td>\n",
       "    </tr>\n",
       "    <tr>\n",
       "      <th>55</th>\n",
       "      <td>Passerellidae</td>\n",
       "      <td>Pipilo</td>\n",
       "      <td>erythrophthalmus</td>\n",
       "      <td>MP</td>\n",
       "      <td>10.029412</td>\n",
       "      <td>82</td>\n",
       "      <td>no</td>\n",
       "      <td>edge</td>\n",
       "      <td>lower</td>\n",
       "    </tr>\n",
       "    <tr>\n",
       "      <th>58</th>\n",
       "      <td>Passerellidae</td>\n",
       "      <td>Spizella</td>\n",
       "      <td>passerina</td>\n",
       "      <td>MP</td>\n",
       "      <td>8.840000</td>\n",
       "      <td>68</td>\n",
       "      <td>yes</td>\n",
       "      <td>edge</td>\n",
       "      <td>lower</td>\n",
       "    </tr>\n",
       "    <tr>\n",
       "      <th>47</th>\n",
       "      <td>Passerellidae</td>\n",
       "      <td>Ammodramus</td>\n",
       "      <td>nelsoni</td>\n",
       "      <td>MP</td>\n",
       "      <td>12.777778</td>\n",
       "      <td>55</td>\n",
       "      <td>yes</td>\n",
       "      <td>open</td>\n",
       "      <td>lower</td>\n",
       "    </tr>\n",
       "    <tr>\n",
       "      <th>57</th>\n",
       "      <td>Passerellidae</td>\n",
       "      <td>Spizella</td>\n",
       "      <td>pallida</td>\n",
       "      <td>MP</td>\n",
       "      <td>12.333333</td>\n",
       "      <td>50</td>\n",
       "      <td>yes</td>\n",
       "      <td>open</td>\n",
       "      <td>lower</td>\n",
       "    </tr>\n",
       "    <tr>\n",
       "      <th>46</th>\n",
       "      <td>Passerellidae</td>\n",
       "      <td>Ammodramus</td>\n",
       "      <td>leconteii</td>\n",
       "      <td>MP</td>\n",
       "      <td>14.400000</td>\n",
       "      <td>25</td>\n",
       "      <td>yes</td>\n",
       "      <td>open</td>\n",
       "      <td>lower</td>\n",
       "    </tr>\n",
       "    <tr>\n",
       "      <th>56</th>\n",
       "      <td>Passerellidae</td>\n",
       "      <td>Pooecetes</td>\n",
       "      <td>gramineus</td>\n",
       "      <td>MP</td>\n",
       "      <td>NaN</td>\n",
       "      <td>10</td>\n",
       "      <td>yes</td>\n",
       "      <td>open</td>\n",
       "      <td>lower</td>\n",
       "    </tr>\n",
       "    <tr>\n",
       "      <th>45</th>\n",
       "      <td>Passerellidae</td>\n",
       "      <td>Ammodramus</td>\n",
       "      <td>henslowii</td>\n",
       "      <td>MP</td>\n",
       "      <td>9.500000</td>\n",
       "      <td>9</td>\n",
       "      <td>yes</td>\n",
       "      <td>open</td>\n",
       "      <td>lower</td>\n",
       "    </tr>\n",
       "    <tr>\n",
       "      <th>63</th>\n",
       "      <td>Passerellidae</td>\n",
       "      <td>Zonotrichia</td>\n",
       "      <td>querula</td>\n",
       "      <td>MP</td>\n",
       "      <td>9.000000</td>\n",
       "      <td>2</td>\n",
       "      <td>yes</td>\n",
       "      <td>edge</td>\n",
       "      <td>lower</td>\n",
       "    </tr>\n",
       "  </tbody>\n",
       "</table>\n",
       "</div>"
      ],
      "text/plain": [
       "           Family         Genus           Species Common Locality  \\\n",
       "61  Passerellidae   Zonotrichia        albicollis             CHI   \n",
       "49  Passerellidae         Junco          hyemalis              MP   \n",
       "52  Passerellidae     Melospiza           melodia              MP   \n",
       "50  Passerellidae     Melospiza         georgiana              MP   \n",
       "54  Passerellidae    Passerella            iliaca              MP   \n",
       "51  Passerellidae     Melospiza         lincolnii              MP   \n",
       "60  Passerellidae  Spizelloides           arborea              MP   \n",
       "62  Passerellidae   Zonotrichia        leucophrys              MP   \n",
       "59  Passerellidae      Spizella           pusilla              MP   \n",
       "53  Passerellidae   Passerculus     sandwichensis              MP   \n",
       "48  Passerellidae    Ammodramus        savannarum              MP   \n",
       "55  Passerellidae        Pipilo  erythrophthalmus              MP   \n",
       "58  Passerellidae      Spizella         passerina              MP   \n",
       "47  Passerellidae    Ammodramus           nelsoni              MP   \n",
       "57  Passerellidae      Spizella           pallida              MP   \n",
       "46  Passerellidae    Ammodramus         leconteii              MP   \n",
       "56  Passerellidae     Pooecetes         gramineus              MP   \n",
       "45  Passerellidae    Ammodramus         henslowii              MP   \n",
       "63  Passerellidae   Zonotrichia           querula              MP   \n",
       "\n",
       "    Average Light Score  Number of Collisions Flight Call Habitat Stratum  \n",
       "61            10.180343                 10133         yes  forest   lower  \n",
       "49            11.809163                  6303         yes    edge   lower  \n",
       "52            12.552785                  5124         yes    edge   lower  \n",
       "50            11.100154                  4910         yes    open   lower  \n",
       "54            12.082737                  2443         yes    edge   lower  \n",
       "51            11.086758                  2029         yes    edge   lower  \n",
       "60            12.294595                  1262         yes    edge   lower  \n",
       "62            11.530612                  1090         yes    edge   lower  \n",
       "59            10.819672                   325         yes    open   lower  \n",
       "53            13.410526                   274         yes    open   lower  \n",
       "48            10.151515                   106         yes    open   lower  \n",
       "55            10.029412                    82          no    edge   lower  \n",
       "58             8.840000                    68         yes    edge   lower  \n",
       "47            12.777778                    55         yes    open   lower  \n",
       "57            12.333333                    50         yes    open   lower  \n",
       "46            14.400000                    25         yes    open   lower  \n",
       "56                  NaN                    10         yes    open   lower  \n",
       "45             9.500000                     9         yes    open   lower  \n",
       "63             9.000000                     2         yes    edge   lower  "
      ]
     },
     "execution_count": 76,
     "metadata": {},
     "output_type": "execute_result"
    }
   ],
   "source": [
    "df_summary_Passerellidae"
   ]
  },
  {
   "cell_type": "code",
   "execution_count": 84,
   "metadata": {},
   "outputs": [
    {
     "data": {
      "text/plain": [
       "49.15166800412702"
      ]
     },
     "execution_count": 84,
     "metadata": {},
     "output_type": "execute_result"
    }
   ],
   "source": [
    "# # percentage of Passerellidae collisions out of total number of collisions\n",
    "\n",
    "(np.sum(df_summary_Passerellidae[\"Number of Collisions\"]) / np.sum(df_summary_copy[\"Number of Collisions\"])) * 100"
   ]
  },
  {
   "cell_type": "code",
   "execution_count": 85,
   "metadata": {},
   "outputs": [
    {
     "data": {
      "text/plain": [
       "20.87912087912088"
      ]
     },
     "execution_count": 85,
     "metadata": {},
     "output_type": "execute_result"
    }
   ],
   "source": [
    "# percentage of Passerellidae species out of total number of species\n",
    "\n",
    "(len(df_summary_Passerellidae) / len(df_summary_copy))*100"
   ]
  },
  {
   "cell_type": "markdown",
   "metadata": {},
   "source": [
    "### ^^^ Passerellidae family of birds contribute 49% to the total number of collisions despite being only 20% of the bird species."
   ]
  },
  {
   "cell_type": "code",
   "execution_count": 93,
   "metadata": {},
   "outputs": [
    {
     "data": {
      "text/plain": [
       "33469"
      ]
     },
     "execution_count": 93,
     "metadata": {},
     "output_type": "execute_result"
    }
   ],
   "source": [
    "len(df_fullDataJoined[df_fullDataJoined[\"Locality\"] == \"CHI\"])"
   ]
  },
  {
   "cell_type": "code",
   "execution_count": 92,
   "metadata": {},
   "outputs": [
    {
     "data": {
      "text/plain": [
       "36315"
      ]
     },
     "execution_count": 92,
     "metadata": {},
     "output_type": "execute_result"
    }
   ],
   "source": [
    "len(df_fullDataJoined[df_fullDataJoined[\"Locality\"] == \"MP\"])"
   ]
  },
  {
   "cell_type": "markdown",
   "metadata": {},
   "source": [
    "### ^^^ Collisions recorded at downtown Chicago (CHI) and McCormick Place (MP) are not very different."
   ]
  },
  {
   "cell_type": "code",
   "execution_count": 89,
   "metadata": {},
   "outputs": [
    {
     "data": {
      "text/plain": [
       "67115"
      ]
     },
     "execution_count": 89,
     "metadata": {},
     "output_type": "execute_result"
    }
   ],
   "source": [
    "len(df_fullDataJoined[df_fullDataJoined[\"Flight Call\"] == \"yes\"])"
   ]
  },
  {
   "cell_type": "code",
   "execution_count": 90,
   "metadata": {},
   "outputs": [
    {
     "data": {
      "text/plain": [
       "2669"
      ]
     },
     "execution_count": 90,
     "metadata": {},
     "output_type": "execute_result"
    }
   ],
   "source": [
    "len(df_fullDataJoined[df_fullDataJoined[\"Flight Call\"] == \"no\"])"
   ]
  },
  {
   "cell_type": "code",
   "execution_count": 91,
   "metadata": {},
   "outputs": [
    {
     "data": {
      "text/plain": [
       "0.9617534105239023"
      ]
     },
     "execution_count": 91,
     "metadata": {},
     "output_type": "execute_result"
    }
   ],
   "source": [
    "67115/(67115+2669)"
   ]
  },
  {
   "cell_type": "markdown",
   "metadata": {},
   "source": [
    "### ^^^ 96% of the collisions happened for a bird which makes a flight call. "
   ]
  },
  {
   "cell_type": "code",
   "execution_count": 97,
   "metadata": {},
   "outputs": [
    {
     "data": {
      "text/plain": [
       "7665"
      ]
     },
     "execution_count": 97,
     "metadata": {},
     "output_type": "execute_result"
    }
   ],
   "source": [
    "len(df_fullDataJoined[df_fullDataJoined[\"Habitat\"] == \"open\"])"
   ]
  },
  {
   "cell_type": "code",
   "execution_count": 95,
   "metadata": {},
   "outputs": [
    {
     "data": {
      "text/plain": [
       "36497"
      ]
     },
     "execution_count": 95,
     "metadata": {},
     "output_type": "execute_result"
    }
   ],
   "source": [
    "len(df_fullDataJoined[df_fullDataJoined[\"Habitat\"] == \"forest\"])"
   ]
  },
  {
   "cell_type": "code",
   "execution_count": 96,
   "metadata": {},
   "outputs": [
    {
     "data": {
      "text/plain": [
       "25622"
      ]
     },
     "execution_count": 96,
     "metadata": {},
     "output_type": "execute_result"
    }
   ],
   "source": [
    "len(df_fullDataJoined[df_fullDataJoined[\"Habitat\"] == \"edge\"])"
   ]
  },
  {
   "cell_type": "markdown",
   "metadata": {},
   "source": [
    "### ^^^ Distribution of type of birds recorded in collisions based on `Habitat`"
   ]
  },
  {
   "cell_type": "code",
   "execution_count": 98,
   "metadata": {},
   "outputs": [
    {
     "data": {
      "text/plain": [
       "53155"
      ]
     },
     "execution_count": 98,
     "metadata": {},
     "output_type": "execute_result"
    }
   ],
   "source": [
    "len(df_fullDataJoined[df_fullDataJoined[\"Stratum\"] == \"lower\"])"
   ]
  },
  {
   "cell_type": "code",
   "execution_count": 100,
   "metadata": {},
   "outputs": [
    {
     "data": {
      "text/plain": [
       "16629"
      ]
     },
     "execution_count": 100,
     "metadata": {},
     "output_type": "execute_result"
    }
   ],
   "source": [
    "len(df_fullDataJoined[df_fullDataJoined[\"Stratum\"] == \"upper\"])"
   ]
  },
  {
   "cell_type": "code",
   "execution_count": 101,
   "metadata": {},
   "outputs": [
    {
     "data": {
      "text/plain": [
       "0.7617075547403416"
      ]
     },
     "execution_count": 101,
     "metadata": {},
     "output_type": "execute_result"
    }
   ],
   "source": [
    "53155/(53155+16629)"
   ]
  },
  {
   "cell_type": "markdown",
   "metadata": {},
   "source": [
    "### ^^^ 76% of the collisions happened for bird which fly lower than higher."
   ]
  },
  {
   "cell_type": "code",
   "execution_count": null,
   "metadata": {},
   "outputs": [],
   "source": []
  }
 ],
 "metadata": {
  "kernelspec": {
   "display_name": "Python 3",
   "language": "python",
   "name": "python3"
  },
  "language_info": {
   "codemirror_mode": {
    "name": "ipython",
    "version": 3
   },
   "file_extension": ".py",
   "mimetype": "text/x-python",
   "name": "python",
   "nbconvert_exporter": "python",
   "pygments_lexer": "ipython3",
   "version": "3.7.7"
  }
 },
 "nbformat": 4,
 "nbformat_minor": 2
}
